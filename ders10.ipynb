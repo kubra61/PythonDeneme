{
 "cells": [
  {
   "cell_type": "code",
   "execution_count": 1,
   "metadata": {},
   "outputs": [
    {
     "name": "stdout",
     "output_type": "stream",
     "text": [
      "1275\n"
     ]
    }
   ],
   "source": [
    "toplam=0\n",
    "for i in range(1,51):\n",
    "    toplam=toplam+i\n",
    "    i+1\n",
    "print(toplam)\n",
    "    \n",
    "      \n",
    "    \n"
   ]
  },
  {
   "cell_type": "code",
   "execution_count": 2,
   "metadata": {},
   "outputs": [
    {
     "name": "stdout",
     "output_type": "stream",
     "text": [
      "650\n"
     ]
    }
   ],
   "source": [
    "toplam=0\n",
    "for i in range(1,51):\n",
    "    if i%2==0:\n",
    "        toplam=toplam+i\n",
    "        i+1\n",
    "print(toplam)\n",
    "    "
   ]
  },
  {
   "cell_type": "code",
   "execution_count": 3,
   "metadata": {},
   "outputs": [
    {
     "name": "stdout",
     "output_type": "stream",
     "text": [
      "i sayisi:1\n",
      "1\n",
      "i sayisi:2\n",
      "4\n",
      "i sayisi:3\n",
      "i sayisi:4\n",
      "16\n",
      "i sayisi:5\n",
      "25\n",
      "i sayisi:6\n",
      "i sayisi:7\n",
      "49\n",
      "i sayisi:8\n",
      "64\n",
      "i sayisi:9\n"
     ]
    }
   ],
   "source": [
    "for i in [1,2,3,4,5,6,7,8,9]:\n",
    "    print(f\"i sayisi:{i}\")\n",
    "    if i%3==0:\n",
    "        continue\n",
    "    print(i**2)"
   ]
  },
  {
   "cell_type": "code",
   "execution_count": 4,
   "metadata": {},
   "outputs": [
    {
     "name": "stdout",
     "output_type": "stream",
     "text": [
      "40\n"
     ]
    }
   ],
   "source": [
    "topla=0\n",
    "for i in [1,2,3,4,5,6,7,8,9]:\n",
    "    topla=topla+i\n",
    "    continue\n",
    "print(topla-5)"
   ]
  },
  {
   "cell_type": "code",
   "execution_count": 5,
   "metadata": {},
   "outputs": [
    {
     "name": "stdout",
     "output_type": "stream",
     "text": [
      "40\n"
     ]
    }
   ],
   "source": [
    "topla=0\n",
    "for i in [1,2,3,4,5,6,7,8,9]:\n",
    "    if i==5:\n",
    "        continue\n",
    "    else:\n",
    "        topla=topla+i\n",
    "print(topla)        "
   ]
  },
  {
   "cell_type": "code",
   "execution_count": 6,
   "metadata": {},
   "outputs": [
    {
     "name": "stdout",
     "output_type": "stream",
     "text": [
      "40\n"
     ]
    }
   ],
   "source": [
    "topla=0\n",
    "for i in [1,2,3,4,5,6,7,8,9]:\n",
    "    if i==5:\n",
    "        continue\n",
    "\n",
    "    topla=topla+i\n",
    "print(topla)        "
   ]
  },
  {
   "cell_type": "code",
   "execution_count": 7,
   "metadata": {},
   "outputs": [
    {
     "name": "stdout",
     "output_type": "stream",
     "text": [
      "\n",
      "1--elma\n",
      "2--portakal\n",
      "3--çilek\n",
      "4--yumurta\n",
      "5--havuç\n",
      "6--armut\n",
      "bizi tercih ettiğiniz için teşekkürler.yine bekleriz.\n",
      "almış olduğunuz ürünler:[]\n"
     ]
    }
   ],
   "source": [
    "ürünler={1:\"elma\",2:\"portakal\",3:\"çilek\",4:\"yumurta\",5:\"havuç\",6:\"armut\"}\n",
    "\n",
    "print(\"\"\"\n",
    "1--elma\n",
    "2--portakal\n",
    "3--çilek\n",
    "4--yumurta\n",
    "5--havuç\n",
    "6--armut\"\"\")\n",
    "\n",
    "sepet=[]\n",
    "\n",
    "while True:\n",
    "    x=input(\"almak istediğiniz ürünün kodunu yazın.sepete eklemeyi bitirdiğiniz zaman'q'tuşuna basınız\")\n",
    "\n",
    "    if x !=\"q\":\n",
    "        sepet.append(ürünler[int(x)])\n",
    "        print(f\"{ürünler[int(x)]} sepete eklendi.\")\n",
    "    elif x==\"q\":\n",
    "        print(\"bizi tercih ettiğiniz için teşekkürler.yine bekleriz.\")\n",
    "        print(f\"almış olduğunuz ürünler:{sepet}\")\n",
    "        break\n",
    "    "
   ]
  },
  {
   "attachments": {},
   "cell_type": "markdown",
   "metadata": {},
   "source": [
    "# functions()"
   ]
  },
  {
   "cell_type": "code",
   "execution_count": null,
   "metadata": {},
   "outputs": [],
   "source": [
    "def fonk_ismi(parametreler):\n",
    "    işlem satırı"
   ]
  },
  {
   "cell_type": "code",
   "execution_count": 8,
   "metadata": {},
   "outputs": [],
   "source": [
    "def kareler_toplamı(x,y):\n",
    "    print(x**2+y**2)"
   ]
  },
  {
   "cell_type": "code",
   "execution_count": 9,
   "metadata": {},
   "outputs": [
    {
     "name": "stdout",
     "output_type": "stream",
     "text": [
      "25\n"
     ]
    }
   ],
   "source": [
    "kareler_toplamı(3,4)"
   ]
  },
  {
   "cell_type": "code",
   "execution_count": 10,
   "metadata": {},
   "outputs": [],
   "source": [
    "def hesap_makinesi(x,opr,y):\n",
    "\n",
    "    if opr==\"+\":\n",
    "        return x+y\n",
    "    elif opr==\"-\":\n",
    "        return x-y\n",
    "    elif opr==\"x\":\n",
    "        return x*y\n",
    "    elif opr==\"/\":\n",
    "        return x/y\n",
    "    else:\n",
    "        return \"hatalı giriş yaptınız\""
   ]
  },
  {
   "cell_type": "code",
   "execution_count": 11,
   "metadata": {},
   "outputs": [
    {
     "data": {
      "text/plain": [
       "19"
      ]
     },
     "execution_count": 11,
     "metadata": {},
     "output_type": "execute_result"
    }
   ],
   "source": [
    "hesap_makinesi(4,\"+\",15)"
   ]
  },
  {
   "cell_type": "code",
   "execution_count": 12,
   "metadata": {},
   "outputs": [
    {
     "data": {
      "text/plain": [
       "'hatalı giriş yaptınız'"
      ]
     },
     "execution_count": 12,
     "metadata": {},
     "output_type": "execute_result"
    }
   ],
   "source": [
    "hesap_makinesi(4,15,\"-\")"
   ]
  },
  {
   "cell_type": "code",
   "execution_count": 14,
   "metadata": {},
   "outputs": [],
   "source": [
    "#bu fonk int ifadelerin uzunluğunu dönüştürür\n",
    "def len_int(x):\n",
    "    counter=0\n",
    "    for i in str(x):\n",
    "        counter+=1\n",
    "    return counter"
   ]
  },
  {
   "cell_type": "code",
   "execution_count": 15,
   "metadata": {},
   "outputs": [
    {
     "data": {
      "text/plain": [
       "4"
      ]
     },
     "execution_count": 15,
     "metadata": {},
     "output_type": "execute_result"
    }
   ],
   "source": [
    "len_int(1486)"
   ]
  },
  {
   "cell_type": "code",
   "execution_count": 16,
   "metadata": {},
   "outputs": [
    {
     "data": {
      "text/plain": [
       "7"
      ]
     },
     "execution_count": 16,
     "metadata": {},
     "output_type": "execute_result"
    }
   ],
   "source": [
    "len_int(\"techpro\")"
   ]
  },
  {
   "cell_type": "code",
   "execution_count": 18,
   "metadata": {},
   "outputs": [],
   "source": [
    "dict_friend={\"friend1\":\"furkan\",\"friend2\":\"bahadır\"}"
   ]
  },
  {
   "cell_type": "code",
   "execution_count": 19,
   "metadata": {},
   "outputs": [],
   "source": [
    "dict_friend[\"friend3\"]=\"kübra\""
   ]
  },
  {
   "cell_type": "code",
   "execution_count": 20,
   "metadata": {},
   "outputs": [
    {
     "data": {
      "text/plain": [
       "{'friend1': 'furkan', 'friend2': 'bahadır', 'friend3': 'kübra'}"
      ]
     },
     "execution_count": 20,
     "metadata": {},
     "output_type": "execute_result"
    }
   ],
   "source": [
    "dict_friend"
   ]
  },
  {
   "cell_type": "code",
   "execution_count": 21,
   "metadata": {},
   "outputs": [
    {
     "name": "stdout",
     "output_type": "stream",
     "text": [
      "{'t': 4, 'e': 4, 'c': 2, 'h': 2, 'p': 1, 'r': 1, 'o': 2, 'd': 1, 'u': 1, 'a': 1, 'i': 2, 'n': 1, 's': 2, 'b': 1}\n"
     ]
    }
   ],
   "source": [
    "sentence=\"techpro education is the best\"\n",
    "\n",
    "my_dict=dict()\n",
    "for i in sentence:\n",
    "    if i.isalpha():\n",
    "        if i in my_dict:\n",
    "            my_dict[i]+=1\n",
    "        else:\n",
    "            my_dict[i]=1\n",
    "print(my_dict)"
   ]
  },
  {
   "cell_type": "code",
   "execution_count": 22,
   "metadata": {},
   "outputs": [],
   "source": [
    "def karakter_sayısı_bulama(sentence0):\n",
    "    for i in sentence:\n",
    "      if i.isalpha():\n",
    "        if i in my_dict:\n",
    "            my_dict[i]+=1\n",
    "        else:\n",
    "            my_dict[i]=1\n",
    "    return my_dict\n"
   ]
  },
  {
   "cell_type": "code",
   "execution_count": 23,
   "metadata": {},
   "outputs": [
    {
     "data": {
      "text/plain": [
       "{'t': 8,\n",
       " 'e': 8,\n",
       " 'c': 4,\n",
       " 'h': 4,\n",
       " 'p': 2,\n",
       " 'r': 2,\n",
       " 'o': 4,\n",
       " 'd': 2,\n",
       " 'u': 2,\n",
       " 'a': 2,\n",
       " 'i': 4,\n",
       " 'n': 2,\n",
       " 's': 4,\n",
       " 'b': 2}"
      ]
     },
     "execution_count": 23,
     "metadata": {},
     "output_type": "execute_result"
    }
   ],
   "source": [
    "karakter_sayısı_bulama(\"sanırım akıl sağlığımı kaybediyorum\")"
   ]
  },
  {
   "attachments": {},
   "cell_type": "markdown",
   "metadata": {},
   "source": [
    "positional and keywor arguments"
   ]
  },
  {
   "cell_type": "code",
   "execution_count": 4,
   "metadata": {},
   "outputs": [],
   "source": [
    "def my_name(firstname,lastname):\n",
    "    print(f\"my name is {firstname} {lastname}\")"
   ]
  },
  {
   "cell_type": "code",
   "execution_count": 5,
   "metadata": {},
   "outputs": [
    {
     "name": "stdout",
     "output_type": "stream",
     "text": [
      "my name is sedat aslan\n"
     ]
    }
   ],
   "source": [
    "my_name(\"sedat\",\"aslan\")"
   ]
  },
  {
   "cell_type": "code",
   "execution_count": 6,
   "metadata": {},
   "outputs": [
    {
     "name": "stdout",
     "output_type": "stream",
     "text": [
      "my name is aslan sedat\n"
     ]
    }
   ],
   "source": [
    "my_name(\"aslan\",\"sedat\")"
   ]
  },
  {
   "cell_type": "code",
   "execution_count": 7,
   "metadata": {},
   "outputs": [
    {
     "data": {
      "text/plain": [
       "['a', 'b', 'c', 'd', 'e', 'f']"
      ]
     },
     "execution_count": 7,
     "metadata": {},
     "output_type": "execute_result"
    }
   ],
   "source": [
    "\"a b c d e f\".split()"
   ]
  },
  {
   "cell_type": "code",
   "execution_count": 9,
   "metadata": {},
   "outputs": [
    {
     "data": {
      "text/plain": [
       "['a', 'b', 'c', 'd e f']"
      ]
     },
     "execution_count": 9,
     "metadata": {},
     "output_type": "execute_result"
    }
   ],
   "source": [
    "\"a b c d e f\".split(maxsplit=3)"
   ]
  },
  {
   "cell_type": "code",
   "execution_count": 15,
   "metadata": {},
   "outputs": [],
   "source": [
    "def yourname(firstname,lastname=\"kübra\"):\n",
    "    print(f\"my name is {firstname} {lastname}\")"
   ]
  },
  {
   "cell_type": "code",
   "execution_count": 16,
   "metadata": {},
   "outputs": [
    {
     "name": "stdout",
     "output_type": "stream",
     "text": [
      "my name is hikmet emre\n"
     ]
    }
   ],
   "source": [
    "yourname(\"hikmet\",\"emre\")"
   ]
  },
  {
   "cell_type": "code",
   "execution_count": 18,
   "metadata": {},
   "outputs": [
    {
     "name": "stdout",
     "output_type": "stream",
     "text": [
      "my name is köse kübra\n"
     ]
    }
   ],
   "source": [
    "yourname(\"köse\")"
   ]
  },
  {
   "cell_type": "code",
   "execution_count": 19,
   "metadata": {},
   "outputs": [
    {
     "ename": "TypeError",
     "evalue": "yourname() got multiple values for argument 'lastname'",
     "output_type": "error",
     "traceback": [
      "\u001b[1;31m---------------------------------------------------------------------------\u001b[0m",
      "\u001b[1;31mTypeError\u001b[0m                                 Traceback (most recent call last)",
      "Cell \u001b[1;32mIn[19], line 1\u001b[0m\n\u001b[1;32m----> 1\u001b[0m yourname(\u001b[39m\"\u001b[39;49m\u001b[39mahmet\u001b[39;49m\u001b[39m\"\u001b[39;49m,\u001b[39m\"\u001b[39;49m\u001b[39mcüneyt\u001b[39;49m\u001b[39m\"\u001b[39;49m,lastname\u001b[39m=\u001b[39;49m\u001b[39m\"\u001b[39;49m\u001b[39memre\u001b[39;49m\u001b[39m\"\u001b[39;49m)\n",
      "\u001b[1;31mTypeError\u001b[0m: yourname() got multiple values for argument 'lastname'"
     ]
    }
   ],
   "source": [
    "yourname(\"ahmet\",\"cüneyt\",lastname=\"emre\")"
   ]
  },
  {
   "cell_type": "code",
   "execution_count": 20,
   "metadata": {},
   "outputs": [
    {
     "data": {
      "text/plain": [
       "'❤'"
      ]
     },
     "execution_count": 20,
     "metadata": {},
     "output_type": "execute_result"
    }
   ],
   "source": [
    "\"\\U00002764\""
   ]
  },
  {
   "cell_type": "code",
   "execution_count": 21,
   "metadata": {},
   "outputs": [],
   "source": [
    "def lover(a,b,c):\n",
    "    print(f\"{b} {c} {a}\")"
   ]
  },
  {
   "cell_type": "code",
   "execution_count": 22,
   "metadata": {},
   "outputs": [
    {
     "name": "stdout",
     "output_type": "stream",
     "text": [
      "I ❤ adana\n"
     ]
    }
   ],
   "source": [
    "lover(\"adana\",\"I\",\"\\U00002764\")"
   ]
  },
  {
   "cell_type": "code",
   "execution_count": 23,
   "metadata": {},
   "outputs": [],
   "source": [
    "def tek_sayilar(a,b,c,d,e):\n",
    "    tekler_listesi=[]\n",
    "    for i in a,b,c,d,e:\n",
    "        if i%2==1:\n",
    "            tekler_listesi.append(i)\n",
    "    return tekler_listesi        "
   ]
  },
  {
   "cell_type": "code",
   "execution_count": 24,
   "metadata": {},
   "outputs": [
    {
     "data": {
      "text/plain": [
       "[1, 3, 5]"
      ]
     },
     "execution_count": 24,
     "metadata": {},
     "output_type": "execute_result"
    }
   ],
   "source": [
    "tek_sayilar(1,2,3,4,5)"
   ]
  },
  {
   "cell_type": "code",
   "execution_count": 25,
   "metadata": {},
   "outputs": [
    {
     "ename": "TypeError",
     "evalue": "tek_sayilar() missing 1 required positional argument: 'e'",
     "output_type": "error",
     "traceback": [
      "\u001b[1;31m---------------------------------------------------------------------------\u001b[0m",
      "\u001b[1;31mTypeError\u001b[0m                                 Traceback (most recent call last)",
      "Cell \u001b[1;32mIn[25], line 1\u001b[0m\n\u001b[1;32m----> 1\u001b[0m tek_sayilar(\u001b[39m1\u001b[39;49m,\u001b[39m2\u001b[39;49m,\u001b[39m3\u001b[39;49m,\u001b[39m4\u001b[39;49m)\n",
      "\u001b[1;31mTypeError\u001b[0m: tek_sayilar() missing 1 required positional argument: 'e'"
     ]
    }
   ],
   "source": [
    "tek_sayilar(1,2,3,4)"
   ]
  },
  {
   "cell_type": "code",
   "execution_count": 26,
   "metadata": {},
   "outputs": [
    {
     "ename": "TypeError",
     "evalue": "tek_sayilar() takes 5 positional arguments but 6 were given",
     "output_type": "error",
     "traceback": [
      "\u001b[1;31m---------------------------------------------------------------------------\u001b[0m",
      "\u001b[1;31mTypeError\u001b[0m                                 Traceback (most recent call last)",
      "Cell \u001b[1;32mIn[26], line 1\u001b[0m\n\u001b[1;32m----> 1\u001b[0m tek_sayilar(\u001b[39m1\u001b[39;49m,\u001b[39m2\u001b[39;49m,\u001b[39m3\u001b[39;49m,\u001b[39m4\u001b[39;49m,\u001b[39m5\u001b[39;49m,\u001b[39m6\u001b[39;49m)\n",
      "\u001b[1;31mTypeError\u001b[0m: tek_sayilar() takes 5 positional arguments but 6 were given"
     ]
    }
   ],
   "source": [
    "tek_sayilar(1,2,3,4,5,6)"
   ]
  },
  {
   "attachments": {},
   "cell_type": "markdown",
   "metadata": {},
   "source": [
    "## arbitrary number of arguments"
   ]
  },
  {
   "cell_type": "code",
   "execution_count": 28,
   "metadata": {},
   "outputs": [],
   "source": [
    "def tek_sayilar2(* sayilar):\n",
    "    tekler_listesi=[]\n",
    "    for i in sayilar:\n",
    "        if i%2==1:\n",
    "            tekler_listesi.append(i)\n",
    "    return tekler_listesi     "
   ]
  },
  {
   "cell_type": "code",
   "execution_count": 29,
   "metadata": {},
   "outputs": [
    {
     "data": {
      "text/plain": [
       "[1, 3, 5, 7, 9]"
      ]
     },
     "execution_count": 29,
     "metadata": {},
     "output_type": "execute_result"
    }
   ],
   "source": [
    "tek_sayilar2(1,2,3,4,5,6,7,8,9)"
   ]
  },
  {
   "cell_type": "code",
   "execution_count": 30,
   "metadata": {},
   "outputs": [],
   "source": [
    "def ters_yazdir(* kelimeler):\n",
    "    liste=[]\n",
    "    liste.append(kelimeler[::-1])\n",
    "    return liste\n",
    "    "
   ]
  },
  {
   "cell_type": "code",
   "execution_count": 31,
   "metadata": {},
   "outputs": [
    {
     "data": {
      "text/plain": [
       "[('mehmet', 'enes', 'pınar')]"
      ]
     },
     "execution_count": 31,
     "metadata": {},
     "output_type": "execute_result"
    }
   ],
   "source": [
    "ters_yazdir(\"pınar\",\"enes\",\"mehmet\")"
   ]
  },
  {
   "cell_type": "code",
   "execution_count": 32,
   "metadata": {},
   "outputs": [],
   "source": [
    "def ters_yazdir2(* kelimeler):\n",
    "    liste=[]\n",
    "    for i in kelimeler:\n",
    "        liste.append(i[::-1])\n",
    "    return liste    \n",
    "    "
   ]
  },
  {
   "cell_type": "code",
   "execution_count": 33,
   "metadata": {},
   "outputs": [
    {
     "data": {
      "text/plain": [
       "['ranıp', 'sene', 'temhem']"
      ]
     },
     "execution_count": 33,
     "metadata": {},
     "output_type": "execute_result"
    }
   ],
   "source": [
    "ters_yazdir2(\"pınar\",\"enes\",\"mehmet\")"
   ]
  },
  {
   "cell_type": "code",
   "execution_count": 34,
   "metadata": {},
   "outputs": [],
   "source": [
    "def ters_yazdir3(* kelimeler):\n",
    "    liste=[]\n",
    "    for i in kelimeler[::-1]:\n",
    "        liste.append(i[::-1])\n",
    "    return liste    \n",
    "    "
   ]
  },
  {
   "cell_type": "code",
   "execution_count": 35,
   "metadata": {},
   "outputs": [
    {
     "data": {
      "text/plain": [
       "['temhem', 'sene', 'ranıp']"
      ]
     },
     "execution_count": 35,
     "metadata": {},
     "output_type": "execute_result"
    }
   ],
   "source": [
    "ters_yazdir3(\"pınar\",\"enes\",\"mehmet\")"
   ]
  },
  {
   "attachments": {},
   "cell_type": "markdown",
   "metadata": {},
   "source": [
    "*args **kwargs"
   ]
  },
  {
   "cell_type": "code",
   "execution_count": 36,
   "metadata": {},
   "outputs": [],
   "source": [
    "def ürün_stoğu(** kwags):\n",
    "    for i,j in kwags.items():\n",
    "        print(f\"ürün:{i},ürün sayısı:{j}\")\n"
   ]
  },
  {
   "cell_type": "code",
   "execution_count": 37,
   "metadata": {},
   "outputs": [
    {
     "name": "stdout",
     "output_type": "stream",
     "text": [
      "ürün:apple,ürün sayısı:3\n",
      "ürün:orange,ürün sayısı:4\n",
      "ürün:banana,ürün sayısı:5\n"
     ]
    }
   ],
   "source": [
    "ürün_stoğu(apple=3,orange=4,banana=5)"
   ]
  },
  {
   "cell_type": "code",
   "execution_count": null,
   "metadata": {},
   "outputs": [],
   "source": []
  },
  {
   "cell_type": "code",
   "execution_count": null,
   "metadata": {},
   "outputs": [],
   "source": []
  },
  {
   "cell_type": "code",
   "execution_count": null,
   "metadata": {},
   "outputs": [],
   "source": []
  },
  {
   "cell_type": "code",
   "execution_count": null,
   "metadata": {},
   "outputs": [],
   "source": []
  }
 ],
 "metadata": {
  "kernelspec": {
   "display_name": "Python 3",
   "language": "python",
   "name": "python3"
  },
  "language_info": {
   "codemirror_mode": {
    "name": "ipython",
    "version": 3
   },
   "file_extension": ".py",
   "mimetype": "text/x-python",
   "name": "python",
   "nbconvert_exporter": "python",
   "pygments_lexer": "ipython3",
   "version": "3.11.3"
  },
  "orig_nbformat": 4
 },
 "nbformat": 4,
 "nbformat_minor": 2
}
