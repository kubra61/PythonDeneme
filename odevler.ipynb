{
 "cells": [
  {
   "attachments": {},
   "cell_type": "markdown",
   "metadata": {},
   "source": [
    "1. ödev"
   ]
  },
  {
   "cell_type": "code",
   "execution_count": 2,
   "metadata": {},
   "outputs": [],
   "source": [
    "dersnotu=float(input(\"ders notunu giriniz:\"))"
   ]
  },
  {
   "cell_type": "code",
   "execution_count": 3,
   "metadata": {},
   "outputs": [
    {
     "name": "stdout",
     "output_type": "stream",
     "text": [
      "gecerli bir deger giriniz\n"
     ]
    }
   ],
   "source": [
    "if dersnotu>=90:\n",
    "    print(\"AA\")\n",
    "elif dersnotu>=80:\n",
    "    print(\"BA\")\n",
    "elif dersnotu>=70:\n",
    "    print(\"B\")\n",
    "elif dersnotu>=60:\n",
    "    print(\"C\")\n",
    "elif dersnotu>=50:\n",
    "    print(\"D\")\n",
    "elif 0<dersnotu<=49:\n",
    "    print(\"F\")\n",
    "else:\n",
    "    print(\"gecerli bir deger giriniz\")"
   ]
  },
  {
   "attachments": {},
   "cell_type": "markdown",
   "metadata": {},
   "source": [
    "2.ödev"
   ]
  },
  {
   "cell_type": "code",
   "execution_count": 9,
   "metadata": {},
   "outputs": [],
   "source": [
    "isimal=str(input(\"bir isim giriniz:\"))"
   ]
  },
  {
   "cell_type": "code",
   "execution_count": 10,
   "metadata": {},
   "outputs": [
    {
     "name": "stdout",
     "output_type": "stream",
     "text": [
      "False\n"
     ]
    }
   ],
   "source": [
    "if isimal.islower(): #islower=bütün harflerin küçük olup olmadığına bakar\n",
    "    print(True)\n",
    "elif isimal.isupper(): #isupper=bütün karakterlerin büyük oşup olmadığına bakar\n",
    "    print(True)\n",
    "else:\n",
    "    print(False)        "
   ]
  },
  {
   "attachments": {},
   "cell_type": "markdown",
   "metadata": {},
   "source": [
    "3.ödev"
   ]
  },
  {
   "cell_type": "code",
   "execution_count": 26,
   "metadata": {},
   "outputs": [],
   "source": [
    "sayial=float(input(\"sayi giriniz:\"))"
   ]
  },
  {
   "cell_type": "code",
   "execution_count": 27,
   "metadata": {},
   "outputs": [
    {
     "name": "stdout",
     "output_type": "stream",
     "text": [
      "8.0\n"
     ]
    }
   ],
   "source": [
    "if sayial%3 ==0 and sayial%5==0:\n",
    "    print(\"techpro\")\n",
    "elif sayial%3==0:\n",
    "    print(\"tech\")\n",
    "elif sayial%5==0:\n",
    "    print(\"pro\") \n",
    "else:\n",
    "    print(sayial)           "
   ]
  },
  {
   "cell_type": "code",
   "execution_count": 2,
   "metadata": {},
   "outputs": [],
   "source": [
    "sayi=int(input(\"1 le 9 arsında bir sayı giriniz:\"))"
   ]
  },
  {
   "cell_type": "code",
   "execution_count": 3,
   "metadata": {},
   "outputs": [
    {
     "name": "stdout",
     "output_type": "stream",
     "text": [
      "3x0=0\n",
      "3x1=3\n",
      "3x2=6\n",
      "3x3=9\n",
      "3x4=12\n",
      "3x5=15\n",
      "3x6=18\n",
      "3x7=21\n",
      "3x8=24\n",
      "3x9=27\n",
      "3x10=30\n"
     ]
    }
   ],
   "source": [
    "hak_sayisi=3\n",
    "\n",
    "for i in range(0,11):\n",
    "    if 1<sayi<9:\n",
    "        carpim=sayi*i\n",
    "        print(f\"{sayi}x{i}={carpim}\")\n",
    "    elif sayi<1 or sayi>9:\n",
    "            for yeni_hak in range(1,4):\n",
    "             sayi=int(input(\"1 le 9 arsında bir sayı giriniz:\"))\n",
    "            yeni_hak=(hak_sayisi-1)\n",
    "            print(f\"olmadı bir daha deneyin.kalan hak{yeni_hak}\")\n",
    "            \n",
    "    elif yeni_hak==0:\n",
    "        print(\"hak sayiniz bitmiştir\")\n",
    "        break\n"
   ]
  },
  {
   "cell_type": "code",
   "execution_count": 4,
   "metadata": {},
   "outputs": [
    {
     "name": "stdout",
     "output_type": "stream",
     "text": [
      "2 kadar hakkınız kaldı\n",
      "1 kadar hakkınız kaldı\n",
      "kakkınız bitti\n"
     ]
    }
   ],
   "source": [
    "\n",
    "haksayisi=3\n",
    "while True:\n",
    "    sayi1=int(input(\"1 ile 9 arasında sayı girin:\"))\n",
    "    if 1<=sayi1<=9:\n",
    "        for i in range(0,11):\n",
    "            carpma=sayi1*i\n",
    "            print(f\"{sayi1}x{i}={carpma}\")\n",
    "        break\n",
    "    haksayisi-=1\n",
    "    if haksayisi<1:\n",
    "        print(\"kakkınız bitti\")\n",
    "        break\n",
    "    print(f\"{haksayisi} kadar hakkınız kaldı\")\n",
    "\n",
    "    "
   ]
  },
  {
   "cell_type": "code",
   "execution_count": null,
   "metadata": {},
   "outputs": [],
   "source": [
    "ifade=input(\"loves me,loves me not yazın:\")\n",
    "import random\n",
    "fal_sonucu=[]\n",
    "a=random.randint(1,10)\n",
    "for i in (1,a+1):\n",
    "   if ifade==\"loves me\" and i%2!=0:\n",
    "      fal_sonucu.append(\"loves me\")\n",
    "   else:\n",
    "      fal_sonucu.append(\"loves me not\")\n",
    "\n",
    "   if ifade==\"loves me not\" and i%2==0:\n",
    "      fal_sonucu.append(\"loves me not\")\n",
    "   else:\n",
    "      fal_sonucu.append(\"loves me\")\n",
    "print(fal_sonucu)               \n"
   ]
  },
  {
   "cell_type": "code",
   "execution_count": null,
   "metadata": {},
   "outputs": [],
   "source": [
    "import string\n",
    "\n",
    "def cleaning(metin):\n",
    "    temiz_metin=\"\"\n",
    "    \n",
    "    noktalama_işaretleri=string.punctuation #string.punctuation içinde yer alan karakterler şunlardır:!\"#$%&'()*+,-./:;<=>?@[\\]^_{|}~`\n",
    "\n",
    "    for karakter in metin:\n",
    "       if karakter not in noktalama_işaretleri:\n",
    "           temiz_metin=temiz_metin+karakter \n",
    "    \n",
    "    return temiz_metin "
   ]
  },
  {
   "cell_type": "code",
   "execution_count": null,
   "metadata": {},
   "outputs": [],
   "source": [
    "  def ardaşıksayıbulma(dizi):\n",
    "    dizi=[]\n",
    "    for i in dizi:\n",
    "       if \n",
    "           "
   ]
  },
  {
   "cell_type": "code",
   "execution_count": null,
   "metadata": {},
   "outputs": [],
   "source": []
  }
 ],
 "metadata": {
  "kernelspec": {
   "display_name": "Python 3",
   "language": "python",
   "name": "python3"
  },
  "language_info": {
   "codemirror_mode": {
    "name": "ipython",
    "version": 3
   },
   "file_extension": ".py",
   "mimetype": "text/x-python",
   "name": "python",
   "nbconvert_exporter": "python",
   "pygments_lexer": "ipython3",
   "version": "3.11.3"
  },
  "orig_nbformat": 4
 },
 "nbformat": 4,
 "nbformat_minor": 2
}
