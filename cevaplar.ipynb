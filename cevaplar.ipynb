{
 "cells": [
  {
   "attachments": {},
   "cell_type": "markdown",
   "metadata": {},
   "source": [
    "soru:1"
   ]
  },
  {
   "cell_type": "code",
   "execution_count": 28,
   "metadata": {},
   "outputs": [],
   "source": [
    "r=float(input(\"dairenin yariçapini giriniz:\")) #r yi 4 giridm"
   ]
  },
  {
   "cell_type": "code",
   "execution_count": 29,
   "metadata": {},
   "outputs": [
    {
     "data": {
      "text/plain": [
       "50.24"
      ]
     },
     "execution_count": 29,
     "metadata": {},
     "output_type": "execute_result"
    }
   ],
   "source": [
    "alan=3.14*(r**2)\n",
    "alan"
   ]
  },
  {
   "cell_type": "code",
   "execution_count": 30,
   "metadata": {},
   "outputs": [
    {
     "data": {
      "text/plain": [
       "25.12"
      ]
     },
     "execution_count": 30,
     "metadata": {},
     "output_type": "execute_result"
    }
   ],
   "source": [
    "cevre=2*3.14*r\n",
    "cevre"
   ]
  },
  {
   "attachments": {},
   "cell_type": "markdown",
   "metadata": {},
   "source": [
    "soru:2"
   ]
  },
  {
   "cell_type": "code",
   "execution_count": 22,
   "metadata": {},
   "outputs": [
    {
     "data": {
      "text/plain": [
       "'20151411321'"
      ]
     },
     "execution_count": 22,
     "metadata": {},
     "output_type": "execute_result"
    }
   ],
   "source": [
    "okul_no=input(\"okul numarasini giriniz:\")\n",
    "okul_no"
   ]
  },
  {
   "cell_type": "code",
   "execution_count": 23,
   "metadata": {},
   "outputs": [],
   "source": [
    "girisyili=okul_no[0:4]\n",
    "fakulte_no=okul_no[4:6]\n",
    "bolum_no=okul_no[6:8]\n",
    "ogremim_no=okul_no[8:9]\n",
    "ogrenci_no=okul_no[9:11]"
   ]
  },
  {
   "cell_type": "code",
   "execution_count": 27,
   "metadata": {},
   "outputs": [
    {
     "name": "stdout",
     "output_type": "stream",
     "text": [
      "girisyili:2015\n",
      "fakülte no:14\n",
      "bölüm no:11\n",
      "öğrenim no:3\n",
      "öğrenci no:21\n"
     ]
    }
   ],
   "source": [
    "print(\"girisyili:\"+girisyili,\"fakülte no:\"+fakulte_no,\"bölüm no:\"+bolum_no,\"öğrenim no:\"+ogremim_no,\"öğrenci no:\"+ogrenci_no,sep=\"\\n\")"
   ]
  },
  {
   "attachments": {},
   "cell_type": "markdown",
   "metadata": {},
   "source": [
    "soru:3"
   ]
  },
  {
   "cell_type": "code",
   "execution_count": 5,
   "metadata": {},
   "outputs": [],
   "source": [
    "sayilar=[2,5,78,54,96,37,85,202,40,64,72,95,800]"
   ]
  },
  {
   "cell_type": "code",
   "execution_count": 15,
   "metadata": {},
   "outputs": [
    {
     "name": "stdout",
     "output_type": "stream",
     "text": [
      "5'in katı olan sayılar:5\n",
      "5'in katı olan sayılar:85\n",
      "5'in katı olan sayılar:40\n",
      "5'in katı olan sayılar:95\n",
      "5'in katı olan sayılar:800\n"
     ]
    }
   ],
   "source": [
    "\n",
    "for sayi in sayilar:\n",
    "    if sayi%5==0:\n",
    "        print(f\"5'in katı olan sayılar:{sayi}\")\n",
    "\n",
    "\n"
   ]
  },
  {
   "attachments": {},
   "cell_type": "markdown",
   "metadata": {},
   "source": [
    "soru:4"
   ]
  },
  {
   "cell_type": "code",
   "execution_count": 10,
   "metadata": {},
   "outputs": [],
   "source": [
    "sayilar_kumesi=[5,7,8,1,0,0,3,6,9,10,54,77,0,98,0,4,1,7,0,61]"
   ]
  },
  {
   "cell_type": "code",
   "execution_count": 11,
   "metadata": {},
   "outputs": [],
   "source": [
    "def moveZeroes(sayilar_kumesi):\n",
    "    sifir=[]\n",
    "    rakam=[]\n",
    "\n",
    "    for i in sayilar_kumesi:\n",
    "        if i==0:\n",
    "            sifir.append(i)\n",
    "        else:\n",
    "            rakam.append(i)\n",
    "    print((rakam)+(sifir))    "
   ]
  },
  {
   "cell_type": "code",
   "execution_count": 12,
   "metadata": {},
   "outputs": [
    {
     "name": "stdout",
     "output_type": "stream",
     "text": [
      "[5, 7, 8, 1, 3, 6, 9, 10, 54, 77, 98, 4, 1, 7, 61, 0, 0, 0, 0, 0]\n"
     ]
    }
   ],
   "source": [
    "moveZeroes(sayilar_kumesi)"
   ]
  },
  {
   "attachments": {},
   "cell_type": "markdown",
   "metadata": {},
   "source": [
    "soru:5"
   ]
  },
  {
   "cell_type": "code",
   "execution_count": 6,
   "metadata": {},
   "outputs": [],
   "source": [
    "lst=[0,4,6,8,4,2,1,0]"
   ]
  },
  {
   "cell_type": "code",
   "execution_count": 9,
   "metadata": {},
   "outputs": [],
   "source": [
    "def validMountainArray(lst):\n",
    "    length = len(lst)\n",
    "    if length < 3:  # En az 3 elemandan oluşmalı\n",
    "        return False\n",
    "\n",
    "    peak = max(lst)\n",
    "    peak_index = lst.index(peak)\n",
    "\n",
    "    # Zirve başta veya sonda olamaz\n",
    "    if peak_index == 0 or peak_index == length - 1:\n",
    "        return False\n",
    "\n",
    "    # Tırmanma kısmı kontrolü\n",
    "    for i in range(peak_index):\n",
    "        if lst[i] >= lst[i+1]:\n",
    "            return False\n",
    "\n",
    "    # İniş kısmı kontrolü\n",
    "    for i in range(peak_index, length-1):\n",
    "        if lst[i] <= lst[i+1]:\n",
    "            return False\n",
    "\n",
    "    return True\n",
    "\n",
    "#bu soruyu chatgpt ye sorudum"
   ]
  },
  {
   "cell_type": "code",
   "execution_count": 10,
   "metadata": {},
   "outputs": [
    {
     "data": {
      "text/plain": [
       "True"
      ]
     },
     "execution_count": 10,
     "metadata": {},
     "output_type": "execute_result"
    }
   ],
   "source": [
    "validMountainArray(lst)"
   ]
  },
  {
   "cell_type": "code",
   "execution_count": 11,
   "metadata": {},
   "outputs": [
    {
     "data": {
      "text/plain": [
       "False"
      ]
     },
     "execution_count": 11,
     "metadata": {},
     "output_type": "execute_result"
    }
   ],
   "source": [
    "validMountainArray([9, 8, 7, 6, 5, 4, 3, 2, 1])"
   ]
  },
  {
   "cell_type": "code",
   "execution_count": 1,
   "metadata": {},
   "outputs": [
    {
     "name": "stdout",
     "output_type": "stream",
     "text": [
      "3*2*1*GO!\n"
     ]
    }
   ],
   "source": [
    "num = int(input(\"Bir sayı girin: \"))\n",
    "\n",
    "result = \"\"\n",
    "for i in range(num, 0, -1):\n",
    "    result += str(i) + \"*\"\n",
    "result += \"GO!\"\n",
    "\n",
    "print(result)"
   ]
  },
  {
   "cell_type": "code",
   "execution_count": 14,
   "metadata": {},
   "outputs": [
    {
     "name": "stdout",
     "output_type": "stream",
     "text": [
      "{5: 25, 7: 49, 9: 81, 11: 121}\n"
     ]
    }
   ],
   "source": [
    "sayi1=int(input(\"1.sayiyi giriniz:\"))\n",
    "sayi2=int(input(\"2.sayiyi giriniz:\"))\n",
    "\n",
    "while(sayi1 <=0 or sayi2 <= 0):\n",
    "    sayi1=int(input(\"1.sayiyi giriniz:\"))\n",
    "    sayi2=int(input(\"2.sayiyi giriniz:\"))\n",
    "\n",
    "buyukSayi = 0\n",
    "kucukSayi = 0\n",
    "\n",
    "if sayi1 > sayi2:\n",
    "    buyukSayi = sayi1\n",
    "    kucukSayi = sayi2\n",
    "else :\n",
    "    buyukSayi = sayi2\n",
    "    kucukSayi = sayi1\n",
    "\n",
    "thisdict = {}\n",
    "list_keys = []\n",
    "\n",
    "for i in range(kucukSayi, buyukSayi + 1):\n",
    "    if i % 2 != 0:\n",
    "        list_keys.append(i)\n",
    "\n",
    "for i in list_keys:\n",
    "    thisdict[i] = i**2\n",
    "\n",
    "print(thisdict)\n",
    "\n",
    "\n",
    "\n",
    "\n",
    "\n",
    "\n",
    "\n",
    "\n",
    "\n"
   ]
  }
 ],
 "metadata": {
  "kernelspec": {
   "display_name": "Python 3",
   "language": "python",
   "name": "python3"
  },
  "language_info": {
   "codemirror_mode": {
    "name": "ipython",
    "version": 3
   },
   "file_extension": ".py",
   "mimetype": "text/x-python",
   "name": "python",
   "nbconvert_exporter": "python",
   "pygments_lexer": "ipython3",
   "version": "3.11.3"
  },
  "orig_nbformat": 4
 },
 "nbformat": 4,
 "nbformat_minor": 2
}
