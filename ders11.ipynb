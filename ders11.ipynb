{
 "cells": [
  {
   "attachments": {},
   "cell_type": "markdown",
   "metadata": {},
   "source": [
    "## filter()"
   ]
  },
  {
   "cell_type": "code",
   "execution_count": 1,
   "metadata": {},
   "outputs": [
    {
     "name": "stdout",
     "output_type": "stream",
     "text": [
      "Help on class filter in module builtins:\n",
      "\n",
      "class filter(object)\n",
      " |  filter(function or None, iterable) --> filter object\n",
      " |  \n",
      " |  Return an iterator yielding those items of iterable for which function(item)\n",
      " |  is true. If function is None, return the items that are true.\n",
      " |  \n",
      " |  Methods defined here:\n",
      " |  \n",
      " |  __getattribute__(self, name, /)\n",
      " |      Return getattr(self, name).\n",
      " |  \n",
      " |  __iter__(self, /)\n",
      " |      Implement iter(self).\n",
      " |  \n",
      " |  __next__(self, /)\n",
      " |      Implement next(self).\n",
      " |  \n",
      " |  __reduce__(...)\n",
      " |      Return state information for pickling.\n",
      " |  \n",
      " |  ----------------------------------------------------------------------\n",
      " |  Static methods defined here:\n",
      " |  \n",
      " |  __new__(*args, **kwargs) from builtins.type\n",
      " |      Create and return a new object.  See help(type) for accurate signature.\n",
      "\n"
     ]
    }
   ],
   "source": [
    "help(filter)"
   ]
  },
  {
   "cell_type": "code",
   "execution_count": 2,
   "metadata": {},
   "outputs": [
    {
     "data": {
      "text/plain": [
       "<filter at 0x1fe7be188b0>"
      ]
     },
     "execution_count": 2,
     "metadata": {},
     "output_type": "execute_result"
    }
   ],
   "source": [
    "filter(None,\"hello\")"
   ]
  },
  {
   "cell_type": "code",
   "execution_count": 3,
   "metadata": {},
   "outputs": [
    {
     "data": {
      "text/plain": [
       "['h', 'e', 'l', 'l', 'o']"
      ]
     },
     "execution_count": 3,
     "metadata": {},
     "output_type": "execute_result"
    }
   ],
   "source": [
    "list(filter(None,\"hello\"))"
   ]
  },
  {
   "cell_type": "code",
   "execution_count": 4,
   "metadata": {},
   "outputs": [
    {
     "data": {
      "text/plain": [
       "[1, 2, True, 'hello', 5.4]"
      ]
     },
     "execution_count": 4,
     "metadata": {},
     "output_type": "execute_result"
    }
   ],
   "source": [
    "list(filter(None,[0,1,2,[],True,False,\"hello\",\"\",5.4])) #trueları döndürür"
   ]
  },
  {
   "cell_type": "code",
   "execution_count": 5,
   "metadata": {},
   "outputs": [],
   "source": [
    "def tek_sayilar(x):\n",
    "    if x%2==1:\n",
    "        return True\n",
    "    else:\n",
    "        return False"
   ]
  },
  {
   "cell_type": "code",
   "execution_count": 6,
   "metadata": {},
   "outputs": [
    {
     "data": {
      "text/plain": [
       "<filter at 0x1fe7be1b880>"
      ]
     },
     "execution_count": 6,
     "metadata": {},
     "output_type": "execute_result"
    }
   ],
   "source": [
    "filter(tek_sayilar,[1,2,3,4,5,6,7,8,9])"
   ]
  },
  {
   "cell_type": "code",
   "execution_count": 7,
   "metadata": {},
   "outputs": [
    {
     "data": {
      "text/plain": [
       "[1, 3, 5, 7, 9]"
      ]
     },
     "execution_count": 7,
     "metadata": {},
     "output_type": "execute_result"
    }
   ],
   "source": [
    "list(filter(tek_sayilar,[1,2,3,4,5,6,7,8,9]))"
   ]
  },
  {
   "cell_type": "code",
   "execution_count": 8,
   "metadata": {},
   "outputs": [],
   "source": [
    "name_list=[\"sedat\",\"techpro\",\"canan\",\"enes\",\"murat\",\"hikmet\"]"
   ]
  },
  {
   "cell_type": "code",
   "execution_count": 9,
   "metadata": {},
   "outputs": [],
   "source": [
    "def name_list(a):\n",
    "    if len(a)==5:\n",
    "        return True\n",
    "    else:\n",
    "        return False"
   ]
  },
  {
   "cell_type": "code",
   "execution_count": 10,
   "metadata": {},
   "outputs": [
    {
     "data": {
      "text/plain": [
       "['sedat', 'canan', 'murat']"
      ]
     },
     "execution_count": 10,
     "metadata": {},
     "output_type": "execute_result"
    }
   ],
   "source": [
    "list(filter(name_list,[\"sedat\",\"techpro\",\"canan\",\"enes\",\"murat\",\"hikmet\"]))"
   ]
  },
  {
   "attachments": {},
   "cell_type": "markdown",
   "metadata": {},
   "source": [
    "### lambada ile fonksiyon oluşturma"
   ]
  },
  {
   "cell_type": "code",
   "execution_count": 11,
   "metadata": {},
   "outputs": [],
   "source": [
    "def sayinin_karesi(x):\n",
    "    return x**2"
   ]
  },
  {
   "cell_type": "code",
   "execution_count": 12,
   "metadata": {},
   "outputs": [
    {
     "data": {
      "text/plain": [
       "25"
      ]
     },
     "execution_count": 12,
     "metadata": {},
     "output_type": "execute_result"
    }
   ],
   "source": [
    "sayinin_karesi(5)"
   ]
  },
  {
   "cell_type": "code",
   "execution_count": 13,
   "metadata": {},
   "outputs": [
    {
     "data": {
      "text/plain": [
       "<function __main__.<lambda>(x)>"
      ]
     },
     "execution_count": 13,
     "metadata": {},
     "output_type": "execute_result"
    }
   ],
   "source": [
    "lambda x :x**2"
   ]
  },
  {
   "cell_type": "code",
   "execution_count": 14,
   "metadata": {},
   "outputs": [
    {
     "data": {
      "text/plain": [
       "25"
      ]
     },
     "execution_count": 14,
     "metadata": {},
     "output_type": "execute_result"
    }
   ],
   "source": [
    "(lambda x :x**2)(5)"
   ]
  },
  {
   "cell_type": "code",
   "execution_count": 15,
   "metadata": {},
   "outputs": [
    {
     "data": {
      "text/plain": [
       "<function __main__.<lambda>(x, y)>"
      ]
     },
     "execution_count": 15,
     "metadata": {},
     "output_type": "execute_result"
    }
   ],
   "source": [
    "lambda x,y:(x+y)/2"
   ]
  },
  {
   "cell_type": "code",
   "execution_count": 16,
   "metadata": {},
   "outputs": [
    {
     "data": {
      "text/plain": [
       "15.0"
      ]
     },
     "execution_count": 16,
     "metadata": {},
     "output_type": "execute_result"
    }
   ],
   "source": [
    "(lambda x,y:(x+y)/2)(10,20)"
   ]
  },
  {
   "cell_type": "code",
   "execution_count": 17,
   "metadata": {},
   "outputs": [],
   "source": [
    "def mean(x,y):\n",
    "    return (x+y)/2"
   ]
  },
  {
   "cell_type": "code",
   "execution_count": 18,
   "metadata": {},
   "outputs": [
    {
     "data": {
      "text/plain": [
       "15.0"
      ]
     },
     "execution_count": 18,
     "metadata": {},
     "output_type": "execute_result"
    }
   ],
   "source": [
    "mean(10,20)"
   ]
  },
  {
   "cell_type": "code",
   "execution_count": 19,
   "metadata": {},
   "outputs": [],
   "source": [
    "ortalama=(lambda x,y:(x+y)/2)"
   ]
  },
  {
   "cell_type": "code",
   "execution_count": 20,
   "metadata": {},
   "outputs": [
    {
     "data": {
      "text/plain": [
       "20.0"
      ]
     },
     "execution_count": 20,
     "metadata": {},
     "output_type": "execute_result"
    }
   ],
   "source": [
    "ortalama(15,25)"
   ]
  },
  {
   "cell_type": "code",
   "execution_count": 21,
   "metadata": {},
   "outputs": [],
   "source": [
    "def palidrom(x):\n",
    "    return x==x[::-1]\n"
   ]
  },
  {
   "cell_type": "code",
   "execution_count": 22,
   "metadata": {},
   "outputs": [
    {
     "data": {
      "text/plain": [
       "True"
      ]
     },
     "execution_count": 22,
     "metadata": {},
     "output_type": "execute_result"
    }
   ],
   "source": [
    "palidrom(\"mum\")"
   ]
  },
  {
   "cell_type": "code",
   "execution_count": 23,
   "metadata": {},
   "outputs": [
    {
     "data": {
      "text/plain": [
       "True"
      ]
     },
     "execution_count": 23,
     "metadata": {},
     "output_type": "execute_result"
    }
   ],
   "source": [
    "(lambda name: name==name[::-1]) (\"ey edip adanada pide ye\")"
   ]
  },
  {
   "cell_type": "code",
   "execution_count": 24,
   "metadata": {},
   "outputs": [
    {
     "name": "stdout",
     "output_type": "stream",
     "text": [
      "Requirement already satisfied: pandas in c:\\users\\kosek\\appdata\\local\\packages\\pythonsoftwarefoundation.python.3.11_qbz5n2kfra8p0\\localcache\\local-packages\\python311\\site-packages (2.0.2)\n",
      "Requirement already satisfied: python-dateutil>=2.8.2 in c:\\users\\kosek\\appdata\\local\\packages\\pythonsoftwarefoundation.python.3.11_qbz5n2kfra8p0\\localcache\\local-packages\\python311\\site-packages (from pandas) (2.8.2)\n",
      "Requirement already satisfied: pytz>=2020.1 in c:\\users\\kosek\\appdata\\local\\packages\\pythonsoftwarefoundation.python.3.11_qbz5n2kfra8p0\\localcache\\local-packages\\python311\\site-packages (from pandas) (2023.3)\n",
      "Requirement already satisfied: tzdata>=2022.1 in c:\\users\\kosek\\appdata\\local\\packages\\pythonsoftwarefoundation.python.3.11_qbz5n2kfra8p0\\localcache\\local-packages\\python311\\site-packages (from pandas) (2023.3)\n",
      "Requirement already satisfied: numpy>=1.21.0 in c:\\users\\kosek\\appdata\\local\\packages\\pythonsoftwarefoundation.python.3.11_qbz5n2kfra8p0\\localcache\\local-packages\\python311\\site-packages (from pandas) (1.25.0)\n",
      "Requirement already satisfied: six>=1.5 in c:\\users\\kosek\\appdata\\local\\packages\\pythonsoftwarefoundation.python.3.11_qbz5n2kfra8p0\\localcache\\local-packages\\python311\\site-packages (from python-dateutil>=2.8.2->pandas) (1.16.0)\n"
     ]
    },
    {
     "name": "stderr",
     "output_type": "stream",
     "text": [
      "\n",
      "[notice] A new release of pip available: 22.3.1 -> 23.1.2\n",
      "[notice] To update, run: C:\\Users\\kosek\\AppData\\Local\\Microsoft\\WindowsApps\\PythonSoftwareFoundation.Python.3.11_qbz5n2kfra8p0\\python.exe -m pip install --upgrade pip\n"
     ]
    }
   ],
   "source": [
    "! pip install pandas"
   ]
  },
  {
   "cell_type": "code",
   "execution_count": 25,
   "metadata": {},
   "outputs": [],
   "source": [
    "def fact_while(x):\n",
    "    carpim_degeri=1\n",
    "    while x>0:\n",
    "        carpim_degeri*=x\n",
    "        x-=1\n",
    "    return carpim_degeri\n"
   ]
  },
  {
   "cell_type": "code",
   "execution_count": 26,
   "metadata": {},
   "outputs": [
    {
     "data": {
      "text/plain": [
       "1"
      ]
     },
     "execution_count": 26,
     "metadata": {},
     "output_type": "execute_result"
    }
   ],
   "source": [
    "fact_while(-5)"
   ]
  },
  {
   "cell_type": "code",
   "execution_count": 27,
   "metadata": {},
   "outputs": [
    {
     "data": {
      "text/plain": [
       "120"
      ]
     },
     "execution_count": 27,
     "metadata": {},
     "output_type": "execute_result"
    }
   ],
   "source": [
    "fact_while(5)"
   ]
  },
  {
   "attachments": {},
   "cell_type": "markdown",
   "metadata": {},
   "source": [
    "### try exceptions"
   ]
  },
  {
   "cell_type": "code",
   "execution_count": 29,
   "metadata": {},
   "outputs": [
    {
     "ename": "TypeError",
     "evalue": "can only concatenate str (not \"int\") to str",
     "output_type": "error",
     "traceback": [
      "\u001b[1;31m---------------------------------------------------------------------------\u001b[0m",
      "\u001b[1;31mTypeError\u001b[0m                                 Traceback (most recent call last)",
      "Cell \u001b[1;32mIn[29], line 1\u001b[0m\n\u001b[1;32m----> 1\u001b[0m \u001b[39m\"\u001b[39;49m\u001b[39m4\u001b[39;49m\u001b[39m\"\u001b[39;49m\u001b[39m+\u001b[39;49m\u001b[39m5\u001b[39;49m\n",
      "\u001b[1;31mTypeError\u001b[0m: can only concatenate str (not \"int\") to str"
     ]
    }
   ],
   "source": [
    "\"4\"+5"
   ]
  },
  {
   "cell_type": "code",
   "execution_count": 28,
   "metadata": {},
   "outputs": [
    {
     "name": "stdout",
     "output_type": "stream",
     "text": [
      "hatayı göesterme bana yeterki çalış\n"
     ]
    }
   ],
   "source": [
    "try:\n",
    "    \"4\"+5\n",
    "except:\n",
    "    print(\"hatayı göesterme bana yeterki çalış\")    "
   ]
  },
  {
   "cell_type": "code",
   "execution_count": 30,
   "metadata": {},
   "outputs": [
    {
     "name": "stdout",
     "output_type": "stream",
     "text": [
      "44444\n"
     ]
    }
   ],
   "source": [
    "try:\n",
    "    print (\"4\"*5)\n",
    "except:\n",
    "    print(\"hatayı göesterme bana yeterki çalış\")    "
   ]
  },
  {
   "cell_type": "code",
   "execution_count": 32,
   "metadata": {},
   "outputs": [
    {
     "name": "stdout",
     "output_type": "stream",
     "text": [
      "hatayı göesterme bana yeterki çalış\n"
     ]
    },
    {
     "ename": "TypeError",
     "evalue": "can only concatenate str (not \"int\") to str",
     "output_type": "error",
     "traceback": [
      "\u001b[1;31m---------------------------------------------------------------------------\u001b[0m",
      "\u001b[1;31mTypeError\u001b[0m                                 Traceback (most recent call last)",
      "Cell \u001b[1;32mIn[32], line 2\u001b[0m\n\u001b[0;32m      1\u001b[0m \u001b[39mtry\u001b[39;00m:\n\u001b[1;32m----> 2\u001b[0m     \u001b[39mprint\u001b[39m (\u001b[39m\"\u001b[39;49m\u001b[39m4\u001b[39;49m\u001b[39m\"\u001b[39;49m\u001b[39m+\u001b[39;49m\u001b[39m5\u001b[39;49m)\n\u001b[0;32m      3\u001b[0m \u001b[39mexcept\u001b[39;00m:\n",
      "\u001b[1;31mTypeError\u001b[0m: can only concatenate str (not \"int\") to str",
      "\nDuring handling of the above exception, another exception occurred:\n",
      "\u001b[1;31mTypeError\u001b[0m                                 Traceback (most recent call last)",
      "Cell \u001b[1;32mIn[32], line 5\u001b[0m\n\u001b[0;32m      3\u001b[0m \u001b[39mexcept\u001b[39;00m:\n\u001b[0;32m      4\u001b[0m     \u001b[39mprint\u001b[39m(\u001b[39m\"\u001b[39m\u001b[39mhatayı göesterme bana yeterki çalış\u001b[39m\u001b[39m\"\u001b[39m)    \n\u001b[1;32m----> 5\u001b[0m     \u001b[39mprint\u001b[39m(\u001b[39m\"\u001b[39;49m\u001b[39m4\u001b[39;49m\u001b[39m\"\u001b[39;49m\u001b[39m+\u001b[39;49m\u001b[39m5\u001b[39;49m)\n",
      "\u001b[1;31mTypeError\u001b[0m: can only concatenate str (not \"int\") to str"
     ]
    }
   ],
   "source": [
    "try:\n",
    "    print (\"4\"+5)\n",
    "except:\n",
    "    print(\"hatayı göesterme bana yeterki çalış\")    \n",
    "    print(\"4\"+5) #yeniden hata olursa hatalı çalışır"
   ]
  },
  {
   "cell_type": "code",
   "execution_count": 33,
   "metadata": {},
   "outputs": [
    {
     "ename": "NameError",
     "evalue": "name 'NameEror' is not defined",
     "output_type": "error",
     "traceback": [
      "\u001b[1;31m---------------------------------------------------------------------------\u001b[0m",
      "\u001b[1;31mTypeError\u001b[0m                                 Traceback (most recent call last)",
      "Cell \u001b[1;32mIn[33], line 2\u001b[0m\n\u001b[0;32m      1\u001b[0m \u001b[39mtry\u001b[39;00m:\n\u001b[1;32m----> 2\u001b[0m     \u001b[39m\"\u001b[39;49m\u001b[39m4\u001b[39;49m\u001b[39m\"\u001b[39;49m\u001b[39m+\u001b[39;49m\u001b[39m5\u001b[39;49m\n\u001b[0;32m      3\u001b[0m \u001b[39mexcept\u001b[39;00m NameEror:\n",
      "\u001b[1;31mTypeError\u001b[0m: can only concatenate str (not \"int\") to str",
      "\nDuring handling of the above exception, another exception occurred:\n",
      "\u001b[1;31mNameError\u001b[0m                                 Traceback (most recent call last)",
      "Cell \u001b[1;32mIn[33], line 3\u001b[0m\n\u001b[0;32m      1\u001b[0m \u001b[39mtry\u001b[39;00m:\n\u001b[0;32m      2\u001b[0m     \u001b[39m\"\u001b[39m\u001b[39m4\u001b[39m\u001b[39m\"\u001b[39m\u001b[39m+\u001b[39m\u001b[39m5\u001b[39m\n\u001b[1;32m----> 3\u001b[0m \u001b[39mexcept\u001b[39;00m NameEror:\n\u001b[0;32m      4\u001b[0m     \u001b[39mprint\u001b[39m(\u001b[39m\"\u001b[39m\u001b[39mhatayı göesterme bana yeterki çalış\u001b[39m\u001b[39m\"\u001b[39m)    \n",
      "\u001b[1;31mNameError\u001b[0m: name 'NameEror' is not defined"
     ]
    }
   ],
   "source": [
    "try:\n",
    "    \"4\"+5\n",
    "except NameEror:\n",
    "    print(\"hatayı göesterme bana yeterki çalış\")    "
   ]
  },
  {
   "cell_type": "code",
   "execution_count": 34,
   "metadata": {},
   "outputs": [
    {
     "name": "stdout",
     "output_type": "stream",
     "text": [
      "hatayı göesterme bana yeterki çalış\n"
     ]
    }
   ],
   "source": [
    "try:\n",
    "    \"4\"+5\n",
    "except TypeError: #type olduğu için çalıştı\n",
    "    print(\"hatayı göesterme bana yeterki çalış\")    "
   ]
  },
  {
   "cell_type": "code",
   "execution_count": 35,
   "metadata": {},
   "outputs": [
    {
     "name": "stdout",
     "output_type": "stream",
     "text": [
      "type eror ise ben çalışırım\n"
     ]
    }
   ],
   "source": [
    "try:\n",
    "    \"4\"+5\n",
    "except NameError:\n",
    "    print(\"name eror ise ben çalışırım\")    \n",
    "except TypeError:\n",
    "    print(\"type eror ise ben çalışırım\")"
   ]
  },
  {
   "cell_type": "code",
   "execution_count": 36,
   "metadata": {},
   "outputs": [
    {
     "name": "stdout",
     "output_type": "stream",
     "text": [
      "bu yazıyı görüyorsanız sayılarda bir hata var demektir\n"
     ]
    }
   ],
   "source": [
    "x=input(\"bir sayi girin:\")\n",
    "y=input(\"bir sayı daha girin\")\n",
    "\n",
    "try:\n",
    "    print(int(x)/int(y))\n",
    "except:\n",
    "    print(\"bu yazıyı görüyorsanız sayılarda bir hata var demektir\")"
   ]
  },
  {
   "cell_type": "code",
   "execution_count": 37,
   "metadata": {},
   "outputs": [
    {
     "name": "stdout",
     "output_type": "stream",
     "text": [
      "bu yazıyı görüyorsanız pay kısmı sıfır olamaz\n"
     ]
    }
   ],
   "source": [
    "x=input(\"bir sayi girin:\")\n",
    "y=input(\"bir sayı daha girin\")\n",
    "\n",
    "try:\n",
    "    print(int(x)/int(y))\n",
    "except ValueError:\n",
    "    print(\"bu yazıyı görüyorsanız int sayi girmemişsiniz demektir\")\n",
    "except ZeroDivisionError:\n",
    "    print(\"bu yazıyı görüyorsanız pay kısmı sıfır olamaz\")"
   ]
  },
  {
   "cell_type": "code",
   "execution_count": 46,
   "metadata": {},
   "outputs": [
    {
     "name": "stdout",
     "output_type": "stream",
     "text": [
      "4.0\n"
     ]
    },
    {
     "ename": "TypeError",
     "evalue": "unsupported operand type(s) for ** or pow(): 'NoneType' and 'int'",
     "output_type": "error",
     "traceback": [
      "\u001b[1;31m---------------------------------------------------------------------------\u001b[0m",
      "\u001b[1;31mTypeError\u001b[0m                                 Traceback (most recent call last)",
      "Cell \u001b[1;32mIn[46], line 13\u001b[0m\n\u001b[0;32m     11\u001b[0m     \u001b[39mprint\u001b[39m(\u001b[39m\"\u001b[39m\u001b[39mvalla bu sefer bende bilmiyorum\u001b[39m\u001b[39m\"\u001b[39m)   \n\u001b[0;32m     12\u001b[0m \u001b[39melse\u001b[39;00m:\n\u001b[1;32m---> 13\u001b[0m     \u001b[39mprint\u001b[39m(a\u001b[39m*\u001b[39;49m\u001b[39m*\u001b[39;49m\u001b[39m2\u001b[39;49m) \n",
      "\u001b[1;31mTypeError\u001b[0m: unsupported operand type(s) for ** or pow(): 'NoneType' and 'int'"
     ]
    }
   ],
   "source": [
    "x=input(\"bir sayi girin:\")\n",
    "y=input(\"bir sayı daha girin\")\n",
    "\n",
    "try:\n",
    "   a=print(int(x)/int(y))\n",
    "except ValueError:\n",
    "    print(\"bu yazıyı görüyorsanız int sayi girmemişsiniz demektir\")\n",
    "except ZeroDivisionError:\n",
    "    print(\"bu yazıyı görüyorsanız pay kısmı sıfır olamaz\")\n",
    "except:\n",
    "    print(\"valla bu sefer bende bilmiyorum\")   \n",
    "else:\n",
    "    print(a**2) "
   ]
  },
  {
   "cell_type": "code",
   "execution_count": 51,
   "metadata": {},
   "outputs": [
    {
     "name": "stdout",
     "output_type": "stream",
     "text": [
      "2.0\n"
     ]
    }
   ],
   "source": [
    "x=input(\"bir sayi girin:\")\n",
    "y=input(\"bir sayı daha girin\")\n",
    "\n",
    "try:\n",
    "   a=print(int(x)/int(y))\n",
    "except ValueError:\n",
    "    print(\"bu yazıyı görüyorsanız int sayi girmemişsiniz demektir\")\n",
    "except ZeroDivisionError:\n",
    "    print(\"bu yazıyı görüyorsanız pay kısmı sıfır olamaz\")\n",
    "\n",
    "    print(a**2) "
   ]
  },
  {
   "cell_type": "code",
   "execution_count": 4,
   "metadata": {},
   "outputs": [
    {
     "name": "stdout",
     "output_type": "stream",
     "text": [
      "4.0\n",
      "13.75\n",
      "3.0\n",
      "[None, None, None]\n"
     ]
    }
   ],
   "source": [
    "liste=[]\n",
    "while True:\n",
    " x=input(\"bir sayi girin:\")\n",
    " y=input(\"bir sayı daha girin\")\n",
    "\n",
    " try:\n",
    "   a=print(int(x)/int(y))\n",
    "   liste.append(a)\n",
    " except ValueError:\n",
    "    print(\"bu yazıyı görüyorsanız int sayi girmemişsiniz demektir\")\n",
    " except ZeroDivisionError:\n",
    "    print(\"bu yazıyı görüyorsanız pay kısmı sıfır olamaz\") \n",
    " if len(liste)==3:\n",
    "    break\n",
    "print(liste) \n",
    "    "
   ]
  },
  {
   "cell_type": "code",
   "execution_count": 5,
   "metadata": {},
   "outputs": [
    {
     "name": "stdout",
     "output_type": "stream",
     "text": [
      "bu yazıyı görüyorsanız int sayi girmemişsiniz demektir\n",
      "bu yazıyı görüyorsanız pay kısmı sıfır olamaz\n",
      "16.0\n",
      "bu yazıyı görüyorsanız int sayi girmemişsiniz demektir\n",
      "7.0\n",
      "0.8\n",
      "[None, None, None]\n"
     ]
    }
   ],
   "source": [
    "liste=[]\n",
    "while True:\n",
    " x=input(\"bir sayi girin:\")\n",
    " y=input(\"bir sayı daha girin\")\n",
    "\n",
    " try:\n",
    "   a=print(int(x)/int(y))\n",
    "   \n",
    " except ValueError:\n",
    "    print(\"bu yazıyı görüyorsanız int sayi girmemişsiniz demektir\")\n",
    " except ZeroDivisionError:\n",
    "    print(\"bu yazıyı görüyorsanız pay kısmı sıfır olamaz\") \n",
    " else:\n",
    "   liste.append(a)\n",
    " if len(liste)==3:\n",
    "    break\n",
    "print(liste) \n",
    "    "
   ]
  },
  {
   "cell_type": "code",
   "execution_count": 6,
   "metadata": {},
   "outputs": [
    {
     "name": "stdout",
     "output_type": "stream",
     "text": [
      "hatalı giriş yaptınız.tekrar bir sayı giriniz\n",
      "hatalı giriş yaptınız.tekrar bir sayı giriniz\n",
      "16\n"
     ]
    }
   ],
   "source": [
    "while True:\n",
    "    try:\n",
    "        x=int(input(\"bir sayı girin:\"))\n",
    "        break\n",
    "    except:\n",
    "        print(\"hatalı giriş yaptınız.tekrar bir sayı giriniz\")\n",
    "print(x**2)        "
   ]
  },
  {
   "cell_type": "code",
   "execution_count": 7,
   "metadata": {},
   "outputs": [
    {
     "name": "stdout",
     "output_type": "stream",
     "text": [
      "hatalı giriş yaptınız.tekrar bir sayı giriniz\n",
      "beni kimse durduramaz. her halukarda çalışırım ben\n",
      "beni kimse durduramaz. her halukarda çalışırım ben\n",
      "64\n"
     ]
    }
   ],
   "source": [
    "while True:\n",
    "    try:\n",
    "        x=int(input(\"bir sayı girin:\"))\n",
    "        break\n",
    "    except:\n",
    "        print(\"hatalı giriş yaptınız.tekrar bir sayı giriniz\")\n",
    "    finally:\n",
    "        print(\"beni kimse durduramaz. her halukarda çalışırım ben\")    \n",
    "print(x**2)        "
   ]
  },
  {
   "cell_type": "code",
   "execution_count": 9,
   "metadata": {},
   "outputs": [
    {
     "name": "stdout",
     "output_type": "stream",
     "text": [
      "hatalı giriş yaptınız.tekrar bir sayı giriniz\n",
      "beni kimse durduramaz. her halukarda çalışırım ben\n"
     ]
    },
    {
     "ename": "TypeError",
     "evalue": "unsupported operand type(s) for +: 'int' and 'str'",
     "output_type": "error",
     "traceback": [
      "\u001b[1;31m---------------------------------------------------------------------------\u001b[0m",
      "\u001b[1;31mTypeError\u001b[0m                                 Traceback (most recent call last)",
      "Cell \u001b[1;32mIn[9], line 9\u001b[0m\n\u001b[0;32m      7\u001b[0m     \u001b[39mfinally\u001b[39;00m:\n\u001b[0;32m      8\u001b[0m         \u001b[39mprint\u001b[39m(\u001b[39m\"\u001b[39m\u001b[39mbeni kimse durduramaz. her halukarda çalışırım ben\u001b[39m\u001b[39m\"\u001b[39m) \n\u001b[1;32m----> 9\u001b[0m         \u001b[39mprint\u001b[39m(\u001b[39m5\u001b[39;49m\u001b[39m+\u001b[39;49m\u001b[39m\"\u001b[39;49m\u001b[39m2\u001b[39;49m\u001b[39m\"\u001b[39;49m)   \n\u001b[0;32m     10\u001b[0m \u001b[39mprint\u001b[39m(x\u001b[39m*\u001b[39m\u001b[39m*\u001b[39m\u001b[39m2\u001b[39m)        \n",
      "\u001b[1;31mTypeError\u001b[0m: unsupported operand type(s) for +: 'int' and 'str'"
     ]
    }
   ],
   "source": [
    "while True:\n",
    "    try:\n",
    "        x=int(input(\"bir sayı girin:\"))\n",
    "        break\n",
    "    except:\n",
    "        print(\"hatalı giriş yaptınız.tekrar bir sayı giriniz\")\n",
    "    finally:\n",
    "        print(\"beni kimse durduramaz. her halukarda çalışırım ben\") \n",
    "        print(5+\"2\")   \n",
    "print(x**2)        "
   ]
  },
  {
   "cell_type": "code",
   "execution_count": null,
   "metadata": {},
   "outputs": [],
   "source": [
    "liste1=[5,\"aa15\",\"asdeddcdds48\",48] #listenin içindeki int elemanları döndüren try excpt li kodu yazın."
   ]
  },
  {
   "cell_type": "code",
   "execution_count": 13,
   "metadata": {},
   "outputs": [
    {
     "name": "stdout",
     "output_type": "stream",
     "text": [
      "[5, 15, 48]\n"
     ]
    }
   ],
   "source": [
    "liste1=[5,\"aa15\",15,\"asdeddcdds48\",48] \n",
    "yeni_liste=[]\n",
    "for x in liste1:\n",
    "    try:\n",
    "        x==int(x)\n",
    "        yeni_liste.append(x)\n",
    "    except:\n",
    "        continue\n",
    "print(yeni_liste)        "
   ]
  },
  {
   "cell_type": "code",
   "execution_count": 15,
   "metadata": {},
   "outputs": [],
   "source": [
    "def fact_for(x):\n",
    "    assert x>=0 #\"negatif sayıların faktoriyel degeri aranmaz\"\n",
    "    carpım_degeri=1\n",
    "    for i in range(x,0,-1):\n",
    "        carpım_degeri*=i \n",
    "    return carpım_degeri"
   ]
  },
  {
   "cell_type": "code",
   "execution_count": 16,
   "metadata": {},
   "outputs": [
    {
     "ename": "AssertionError",
     "evalue": "",
     "output_type": "error",
     "traceback": [
      "\u001b[1;31m---------------------------------------------------------------------------\u001b[0m",
      "\u001b[1;31mAssertionError\u001b[0m                            Traceback (most recent call last)",
      "Cell \u001b[1;32mIn[16], line 1\u001b[0m\n\u001b[1;32m----> 1\u001b[0m fact_for(\u001b[39m-\u001b[39;49m\u001b[39m5\u001b[39;49m)\n",
      "Cell \u001b[1;32mIn[15], line 2\u001b[0m, in \u001b[0;36mfact_for\u001b[1;34m(x)\u001b[0m\n\u001b[0;32m      1\u001b[0m \u001b[39mdef\u001b[39;00m \u001b[39mfact_for\u001b[39m(x):\n\u001b[1;32m----> 2\u001b[0m     \u001b[39massert\u001b[39;00m x\u001b[39m>\u001b[39m\u001b[39m=\u001b[39m\u001b[39m0\u001b[39m \u001b[39m#\"negatif sayıların faktoriyel degeri aranmaz\"\u001b[39;00m\n\u001b[0;32m      3\u001b[0m     carpım_degeri\u001b[39m=\u001b[39m\u001b[39m1\u001b[39m\n\u001b[0;32m      4\u001b[0m     \u001b[39mfor\u001b[39;00m i \u001b[39min\u001b[39;00m \u001b[39mrange\u001b[39m(x,\u001b[39m0\u001b[39m,\u001b[39m-\u001b[39m\u001b[39m1\u001b[39m):\n",
      "\u001b[1;31mAssertionError\u001b[0m: "
     ]
    }
   ],
   "source": [
    "fact_for(-5)"
   ]
  },
  {
   "cell_type": "code",
   "execution_count": 17,
   "metadata": {},
   "outputs": [
    {
     "data": {
      "text/plain": [
       "120"
      ]
     },
     "execution_count": 17,
     "metadata": {},
     "output_type": "execute_result"
    }
   ],
   "source": [
    "fact_for(5)"
   ]
  },
  {
   "cell_type": "code",
   "execution_count": 19,
   "metadata": {},
   "outputs": [
    {
     "name": "stdout",
     "output_type": "stream",
     "text": [
      "bilgisayar kazandı\n",
      "bilgisayar kazandı\n",
      "şahsım kazandı\n",
      "bilgisayar kazandı\n",
      "Game Over\n",
      "4 kerede ben 1 kere kazandım\n"
     ]
    }
   ],
   "source": [
    "import random\n",
    "import time\n",
    "x = input(\"Taş, Kağıt, Makas oyunu oynamak ister misin?(evet veya hayır)\").lower()\n",
    "\n",
    "pc_listesi = [\"taş\", \"kağıt\", \"makas\"]\n",
    "pc_counter = 0\n",
    "şahsım = 0\n",
    "berabere = 0\n",
    "while x == \"evet\":\n",
    "    \n",
    "    pc = pc_listesi[random.randint(0,2)]\n",
    "\n",
    "    ben = input(\"Taş, Kağıt yada Makas tan birini yaz\").lower()\n",
    "\n",
    "    if (pc == \"taş\" and ben == \"makas\") or (pc == \"makas\" and ben == \"kağıt\") or (pc == \"kağıt\" and ben == \"taş\"):\n",
    "\n",
    "        kazanan = \"bilgisayar kazandı\"\n",
    "        pc_counter += 1\n",
    "\n",
    "    elif (pc == \"taş\" and ben == \"kağıt\") or (pc == \"makas\" and ben == \"taş\" ) or (pc == \"kağıt\" and ben == \"makas\"):\n",
    "\n",
    "        kazanan = \"şahsım kazandı\"\n",
    "        şahsım += 1\n",
    "\n",
    "    elif (pc == \"taş\" and ben == \"taş\") or (pc == \"makas\" and ben == \"makas\" ) or (pc == \"kağıt\" and ben == \"kağıt\"):\n",
    "\n",
    "        kazanan = \"kazanan yok durum berabere\"\n",
    "        berabere += 1\n",
    "    else:\n",
    "        kazanan = \"hatalı giriş yaptın\"\n",
    "\n",
    "    time.sleep(2)\n",
    "\n",
    "    print(kazanan)\n",
    "\n",
    "    time.sleep(1)\n",
    "\n",
    "    x = input(\"Taş, Kağıt, Makas oyunu oynamaya devam etmek ister misin?(evet veya hayır)\").lower()\n",
    "\n",
    "print(\"Game Over\")\n",
    "print(f\"{pc_counter + şahsım + berabere} kerede ben {şahsım} kere kazandım\")"
   ]
  },
  {
   "cell_type": "code",
   "execution_count": null,
   "metadata": {},
   "outputs": [],
   "source": []
  },
  {
   "cell_type": "code",
   "execution_count": null,
   "metadata": {},
   "outputs": [],
   "source": []
  },
  {
   "cell_type": "code",
   "execution_count": null,
   "metadata": {},
   "outputs": [],
   "source": []
  },
  {
   "cell_type": "code",
   "execution_count": null,
   "metadata": {},
   "outputs": [],
   "source": []
  }
 ],
 "metadata": {
  "kernelspec": {
   "display_name": "Python 3",
   "language": "python",
   "name": "python3"
  },
  "language_info": {
   "codemirror_mode": {
    "name": "ipython",
    "version": 3
   },
   "file_extension": ".py",
   "mimetype": "text/x-python",
   "name": "python",
   "nbconvert_exporter": "python",
   "pygments_lexer": "ipython3",
   "version": "3.11.3"
  },
  "orig_nbformat": 4
 },
 "nbformat": 4,
 "nbformat_minor": 2
}
