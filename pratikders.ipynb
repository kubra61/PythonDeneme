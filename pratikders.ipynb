{
 "cells": [
  {
   "cell_type": "code",
   "execution_count": 1,
   "metadata": {},
   "outputs": [
    {
     "name": "stdout",
     "output_type": "stream",
     "text": [
      "hello world\n"
     ]
    }
   ],
   "source": [
    "print(\"hello world\")"
   ]
  },
  {
   "cell_type": "code",
   "execution_count": 3,
   "metadata": {},
   "outputs": [
    {
     "name": "stdout",
     "output_type": "stream",
     "text": [
      "helloworld\n"
     ]
    }
   ],
   "source": [
    "print(\"hello\" + \"world\")"
   ]
  },
  {
   "cell_type": "code",
   "execution_count": 4,
   "metadata": {},
   "outputs": [
    {
     "name": "stdout",
     "output_type": "stream",
     "text": [
      "hello world\n"
     ]
    }
   ],
   "source": [
    "print(\"hello\" , \"world\")"
   ]
  },
  {
   "cell_type": "code",
   "execution_count": null,
   "metadata": {},
   "outputs": [],
   "source": []
  },
  {
   "cell_type": "code",
   "execution_count": 5,
   "metadata": {},
   "outputs": [
    {
     "name": "stdout",
     "output_type": "stream",
     "text": [
      "hellohellohellohellohellohellohellohellohellohello\n"
     ]
    }
   ],
   "source": [
    "print(\"hello\"*10)"
   ]
  },
  {
   "cell_type": "code",
   "execution_count": 6,
   "metadata": {},
   "outputs": [],
   "source": [
    "name=\"ahmet\""
   ]
  },
  {
   "cell_type": "code",
   "execution_count": 7,
   "metadata": {},
   "outputs": [
    {
     "name": "stdout",
     "output_type": "stream",
     "text": [
      "ahmet\n"
     ]
    }
   ],
   "source": [
    "print(name)"
   ]
  },
  {
   "cell_type": "code",
   "execution_count": 10,
   "metadata": {},
   "outputs": [],
   "source": [
    "ahmet_age=25\n",
    "mehmet_age=30"
   ]
  },
  {
   "cell_type": "code",
   "execution_count": 11,
   "metadata": {},
   "outputs": [
    {
     "name": "stdout",
     "output_type": "stream",
     "text": [
      "25 30\n"
     ]
    }
   ],
   "source": [
    "print(ahmet_age,mehmet_age)"
   ]
  },
  {
   "cell_type": "code",
   "execution_count": 13,
   "metadata": {},
   "outputs": [],
   "source": [
    "ahmet=\"müdür\"\n",
    "mehmet=\"kordinator\""
   ]
  },
  {
   "cell_type": "code",
   "execution_count": 14,
   "metadata": {},
   "outputs": [],
   "source": [
    "ahmet,mehmet=mehmet,ahmet"
   ]
  },
  {
   "cell_type": "code",
   "execution_count": 15,
   "metadata": {},
   "outputs": [
    {
     "name": "stdout",
     "output_type": "stream",
     "text": [
      "ahmet=kordinator\n",
      "mehmet=müdür\n"
     ]
    }
   ],
   "source": [
    "print(\"ahmet=\"+ahmet,\"mehmet=\"+mehmet,sep=\"\\n\")"
   ]
  },
  {
   "cell_type": "code",
   "execution_count": 16,
   "metadata": {},
   "outputs": [
    {
     "name": "stdout",
     "output_type": "stream",
     "text": [
      "apple\tbanana\torange\n"
     ]
    }
   ],
   "source": [
    "print(\"apple\",\"banana\",\"orange\",sep=\"\\t\")"
   ]
  },
  {
   "cell_type": "code",
   "execution_count": 17,
   "metadata": {},
   "outputs": [
    {
     "name": "stdout",
     "output_type": "stream",
     "text": [
      "b e ş i k\n"
     ]
    }
   ],
   "source": [
    "print(*\"beşik\")"
   ]
  },
  {
   "cell_type": "code",
   "execution_count": 20,
   "metadata": {},
   "outputs": [
    {
     "name": "stdout",
     "output_type": "stream",
     "text": [
      "T.B.M.M\n"
     ]
    }
   ],
   "source": [
    "print(*\"TBMM\",sep=\".\")"
   ]
  },
  {
   "cell_type": "code",
   "execution_count": 21,
   "metadata": {},
   "outputs": [
    {
     "name": "stdout",
     "output_type": "stream",
     "text": [
      "d-s-o-f-j-i-f-j-p-c-m\n"
     ]
    }
   ],
   "source": [
    "print(*\"dsofjifjpcm\",sep=\"-\")"
   ]
  },
  {
   "cell_type": "code",
   "execution_count": 22,
   "metadata": {},
   "outputs": [
    {
     "data": {
      "text/plain": [
       "37"
      ]
     },
     "execution_count": 22,
     "metadata": {},
     "output_type": "execute_result"
    }
   ],
   "source": [
    "round(37.2)"
   ]
  },
  {
   "cell_type": "code",
   "execution_count": 23,
   "metadata": {},
   "outputs": [
    {
     "data": {
      "text/plain": [
       "38"
      ]
     },
     "execution_count": 23,
     "metadata": {},
     "output_type": "execute_result"
    }
   ],
   "source": [
    "round(37.5)"
   ]
  },
  {
   "cell_type": "code",
   "execution_count": 24,
   "metadata": {},
   "outputs": [
    {
     "data": {
      "text/plain": [
       "28.0"
      ]
     },
     "execution_count": 24,
     "metadata": {},
     "output_type": "execute_result"
    }
   ],
   "source": [
    "round(27.5,0)"
   ]
  },
  {
   "cell_type": "code",
   "execution_count": 25,
   "metadata": {},
   "outputs": [
    {
     "data": {
      "text/plain": [
       "0.0"
      ]
     },
     "execution_count": 25,
     "metadata": {},
     "output_type": "execute_result"
    }
   ],
   "source": [
    "round(130.665,0-3)"
   ]
  },
  {
   "cell_type": "code",
   "execution_count": 27,
   "metadata": {},
   "outputs": [
    {
     "data": {
      "text/plain": [
       "3.857142857142857"
      ]
     },
     "execution_count": 27,
     "metadata": {},
     "output_type": "execute_result"
    }
   ],
   "source": [
    "pi=27/7\n",
    "pi"
   ]
  },
  {
   "cell_type": "code",
   "execution_count": 28,
   "metadata": {},
   "outputs": [
    {
     "data": {
      "text/plain": [
       "3.8571"
      ]
     },
     "execution_count": 28,
     "metadata": {},
     "output_type": "execute_result"
    }
   ],
   "source": [
    "round(pi,4)"
   ]
  },
  {
   "cell_type": "code",
   "execution_count": 29,
   "metadata": {},
   "outputs": [
    {
     "data": {
      "text/plain": [
       "True"
      ]
     },
     "execution_count": 29,
     "metadata": {},
     "output_type": "execute_result"
    }
   ],
   "source": [
    "a=20\n",
    "b=20\n",
    "a is b"
   ]
  },
  {
   "cell_type": "code",
   "execution_count": 30,
   "metadata": {},
   "outputs": [
    {
     "data": {
      "text/plain": [
       "False"
      ]
     },
     "execution_count": 30,
     "metadata": {},
     "output_type": "execute_result"
    }
   ],
   "source": [
    "bool(0)"
   ]
  },
  {
   "cell_type": "code",
   "execution_count": 31,
   "metadata": {},
   "outputs": [
    {
     "data": {
      "text/plain": [
       "False"
      ]
     },
     "execution_count": 31,
     "metadata": {},
     "output_type": "execute_result"
    }
   ],
   "source": [
    "bool(None)"
   ]
  },
  {
   "cell_type": "code",
   "execution_count": 32,
   "metadata": {},
   "outputs": [
    {
     "data": {
      "text/plain": [
       "8"
      ]
     },
     "execution_count": 32,
     "metadata": {},
     "output_type": "execute_result"
    }
   ],
   "source": [
    "5 and 8 or 9"
   ]
  },
  {
   "cell_type": "code",
   "execution_count": 1,
   "metadata": {},
   "outputs": [
    {
     "data": {
      "text/plain": [
       "'chpro'"
      ]
     },
     "execution_count": 1,
     "metadata": {},
     "output_type": "execute_result"
    }
   ],
   "source": [
    "\"techpro\"[2:]"
   ]
  },
  {
   "cell_type": "code",
   "execution_count": 2,
   "metadata": {},
   "outputs": [
    {
     "data": {
      "text/plain": [
       "'tec'"
      ]
     },
     "execution_count": 2,
     "metadata": {},
     "output_type": "execute_result"
    }
   ],
   "source": [
    "\"techpro\"[:3]"
   ]
  },
  {
   "cell_type": "code",
   "execution_count": 3,
   "metadata": {},
   "outputs": [
    {
     "data": {
      "text/plain": [
       "'C'"
      ]
     },
     "execution_count": 3,
     "metadata": {},
     "output_type": "execute_result"
    }
   ],
   "source": [
    "\"techpro\"[2].upper()"
   ]
  },
  {
   "cell_type": "code",
   "execution_count": 1,
   "metadata": {},
   "outputs": [
    {
     "name": "stdout",
     "output_type": "stream",
     "text": [
      "Dikdortgencik alani: 20\n",
      "Ucgencik alani: 9.0\n"
     ]
    }
   ],
   "source": [
    "class Sekil:   #ana sinif\n",
    "    def __init__(self, ad):\n",
    "        self.ad = ad\n",
    "\n",
    "    def alan_hesapla(self):\n",
    "        pass\n",
    "\n",
    "class Dikdortgen(Sekil):\n",
    "    def __init__(self, ad, uzunluk, genislik):\n",
    "        super().__init__(ad) \n",
    "        self.uzunluk = uzunluk\n",
    "        self.genislik = genislik  \n",
    "\n",
    "    def alan_hesapla(self):\n",
    "        return self.uzunluk * self.genislik\n",
    "    \n",
    "class Ucgen(Sekil): \n",
    "    def __init__(self, ad, taban, yukseklik):\n",
    "        super().__init__(ad)\n",
    "        self.taban=taban\n",
    "        self.yukseklik=yukseklik\n",
    "\n",
    "    def alan_hesapla(self):\n",
    "        return 0.5 * self.taban * self.yukseklik   \n",
    "\n",
    "dikdortgen = Dikdortgen(\"Dikdortgencik\", 4 , 5)\n",
    "ucgen = Ucgen(\"Ucgencik\", 3, 6)\n",
    "\n",
    "sekil_listesi = [dikdortgen, ucgen]\n",
    "\n",
    "for sekil in sekil_listesi:\n",
    "    print(f\"{sekil.ad} alani: {sekil.alan_hesapla()}\")"
   ]
  },
  {
   "cell_type": "code",
   "execution_count": null,
   "metadata": {},
   "outputs": [],
   "source": [
    "class çalışan:\n",
    "    def __init__(self,ad,soyad):\n",
    "        self.ad=ad\n",
    "        self.soyad=soyad\n",
    "\n",
    "    def maaş_hesapla(self):\n",
    "        pass\n",
    "class yönetici(çalışan):\n",
    "    def __init__(self, ad, soyad,maaş,prim):\n",
    "        super().__init__(ad, soyad)\n",
    "        self.maaş=maaş\n",
    "        self.prim=prim\n",
    "\n",
    "    def maaş_hesapla(self):\n",
    "       maaş_toplam=self.maaş+self.prim\n",
    "       print(f\"{self.ad} {self.soyad} isimli yöneticinin toplam maaşı: {maaş_toplam}\")\n",
    "\n",
    "class personel(çalışan):\n",
    "    def __init__(self, ad, soyad,maaş):\n",
    "        super().__init__(ad, soyad)   \n",
    "        self.maaş=maaş\n",
    "\n",
    "    def maaş_hesapla(self):\n",
    "        print(f\"{self.ad} {self.soyad} isimli personelin toplam maaşı: {self.maaş}\")\n",
    "\n",
    "calışanlar=[\n",
    "(\"ali\",\"kaya\",50000,10000)\n",
    "personel(\"ayşe\",\"küçük\",30000)\n",
    "personel(\"ahmet\" \"kılıç\",25000)] \n",
    "\n",
    "for calı\n"
   ]
  },
  {
   "cell_type": "code",
   "execution_count": 2,
   "metadata": {},
   "outputs": [
    {
     "name": "stdout",
     "output_type": "stream",
     "text": [
      "20\n"
     ]
    }
   ],
   "source": [
    "class stack:\n",
    "    def __init__(self):\n",
    "        self.items=[]\n",
    "\n",
    "    def push(self,item):\n",
    "        self.items.append(item)\n",
    "\n",
    "    def pop(self):\n",
    "        return self.items.pop()\n",
    "\n",
    "stack=stack()\n",
    "stack.push(10)\n",
    "stack.push(20)\n",
    "\n",
    "print(stack.pop())\n",
    "        "
   ]
  },
  {
   "cell_type": "markdown",
   "metadata": {},
   "source": [
    "***@abstractmethod***, Python'da soyut metotları tanımlamak için kullanılan bir dekoratördür. Soyut metotlar, bir üst sınıfta tanımlanırken alt sınıflar tarafından uygulanması gereken metotlardır. Soyut metotlar, üst sınıfta sadece metot imzasını (method signature) belirtirken, alt sınıflarda tamamlanması gereken özel işlevleri sağlamak için kullanılır."
   ]
  },
  {
   "cell_type": "code",
   "execution_count": 3,
   "metadata": {},
   "outputs": [
    {
     "name": "stdout",
     "output_type": "stream",
     "text": [
      "20\n"
     ]
    }
   ],
   "source": [
    "from abc import ABC,abstractclassmethod\n",
    "\n",
    "class sekil(ABC):\n",
    "    @abstractclassmethod\n",
    "    def alan(self):\n",
    "        pass\n",
    "\n",
    "class dikdortgen(sekil):\n",
    "    def __init__(self,en,boy):\n",
    "        self.en=en\n",
    "        self.boy=boy\n",
    "\n",
    "    def alan(self):\n",
    "        return self.en*self.boy\n",
    "    \n",
    "dikdortgen=dikdortgen(4,5)\n",
    "print(dikdortgen.alan())    \n",
    "                "
   ]
  },
  {
   "cell_type": "code",
   "execution_count": null,
   "metadata": {},
   "outputs": [],
   "source": []
  },
  {
   "cell_type": "code",
   "execution_count": null,
   "metadata": {},
   "outputs": [],
   "source": []
  }
 ],
 "metadata": {
  "kernelspec": {
   "display_name": "Python 3",
   "language": "python",
   "name": "python3"
  },
  "language_info": {
   "codemirror_mode": {
    "name": "ipython",
    "version": 3
   },
   "file_extension": ".py",
   "mimetype": "text/x-python",
   "name": "python",
   "nbconvert_exporter": "python",
   "pygments_lexer": "ipython3",
   "version": "3.11.3"
  },
  "orig_nbformat": 4
 },
 "nbformat": 4,
 "nbformat_minor": 2
}
