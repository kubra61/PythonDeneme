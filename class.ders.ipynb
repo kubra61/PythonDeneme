{
 "cells": [
  {
   "cell_type": "code",
   "execution_count": 1,
   "metadata": {},
   "outputs": [
    {
     "name": "stdout",
     "output_type": "stream",
     "text": [
      "<class '__main__.personel'>\n",
      "<__main__.personel object at 0x000001BE61E43A90>\n",
      "<__main__.personel object at 0x000001BE5F85D1D0>\n"
     ]
    }
   ],
   "source": [
    "class personel:\n",
    "    pass\n",
    " \n",
    "per1=personel() \n",
    "per2=personel()\n",
    "\n",
    "print(personel)\n",
    "print(per1)\n",
    "print(per2)"
   ]
  },
  {
   "cell_type": "code",
   "execution_count": 2,
   "metadata": {},
   "outputs": [
    {
     "name": "stdout",
     "output_type": "stream",
     "text": [
      "<class '__main__.personel'>\n",
      "<__main__.personel object at 0x000001BE61E570D0>\n",
      "<__main__.personel object at 0x000001BE61E43A90>\n",
      "<__main__.personel object at 0x000001BE61E570D0>\n",
      "<__main__.personel object at 0x000001BE61E43A90>\n",
      "ahmet.kaya@firma.com\n",
      "meltem.altin@firma.com\n"
     ]
    }
   ],
   "source": [
    "class personel:\n",
    "    pass\n",
    " \n",
    "per1=personel() \n",
    "per2=personel()\n",
    "\n",
    "print(personel)\n",
    "print(per1)\n",
    "print(per2)\n",
    "\n",
    "per1.isim=\"ahmet\"\n",
    "per1.soyisim=\"kaya\"\n",
    "per1.eposta=\"ahmet.kaya@firma.com\"\n",
    "\n",
    "per2.isim=\"meltem\"\n",
    "per2.soyisim=\"altin\"\n",
    "per2.eposta=\"meltem.altin@firma.com\"\n",
    "\n",
    "\n",
    "print(per1)\n",
    "print(per2)\n",
    "print(per1.eposta)\n",
    "print(per2.eposta)\n",
    "\n"
   ]
  },
  {
   "cell_type": "code",
   "execution_count": 6,
   "metadata": {},
   "outputs": [
    {
     "name": "stdout",
     "output_type": "stream",
     "text": [
      "esma\n",
      "servetoğlu\n",
      "25000\n",
      "esma.servetoğlu@firma.com\n",
      "mary\n",
      "smith\n",
      "4000\n",
      "mary.smith@firma.com\n"
     ]
    }
   ],
   "source": [
    "class personel:\n",
    "    def tanimla(self,isim,soyisim,maaş):\n",
    "        self.ad=isim\n",
    "        self.soyad=soyisim\n",
    "        self.price=maaş\n",
    "        self.eposta=f\"{isim.lower()}.{soyisim.lower()}@firma.com\"\n",
    "        \n",
    "        return self\n",
    "\n",
    "per1=personel().tanimla(isim=\"esma\",soyisim=\"servetoğlu\",maaş=\"25000\")\n",
    "per2=personel().tanimla(\"mary\",\"smith\",4000)\n",
    "\n",
    "print(per1.ad)\n",
    "print(per1.soyad)\n",
    "print(per1.price)\n",
    "print(per1.eposta)\n",
    "\n",
    "print(per2.ad)\n",
    "print(per2.soyad)\n",
    "print(per2.price)\n",
    "print(per2.eposta)"
   ]
  },
  {
   "cell_type": "code",
   "execution_count": 8,
   "metadata": {},
   "outputs": [
    {
     "ename": "TypeError",
     "evalue": "__init__() should return None, not 'personel'",
     "output_type": "error",
     "traceback": [
      "\u001b[1;31m---------------------------------------------------------------------------\u001b[0m",
      "\u001b[1;31mTypeError\u001b[0m                                 Traceback (most recent call last)",
      "Cell \u001b[1;32mIn[8], line 10\u001b[0m\n\u001b[0;32m      6\u001b[0m         \u001b[39mself\u001b[39m\u001b[39m.\u001b[39meposta\u001b[39m=\u001b[39m\u001b[39mf\u001b[39m\u001b[39m\"\u001b[39m\u001b[39m{\u001b[39;00misim\u001b[39m.\u001b[39mlower()\u001b[39m}\u001b[39;00m\u001b[39m.\u001b[39m\u001b[39m{\u001b[39;00msoyisim\u001b[39m.\u001b[39mlower()\u001b[39m}\u001b[39;00m\u001b[39m@firma.com\u001b[39m\u001b[39m\"\u001b[39m\n\u001b[0;32m      8\u001b[0m         \u001b[39mreturn\u001b[39;00m \u001b[39mself\u001b[39m\n\u001b[1;32m---> 10\u001b[0m per1\u001b[39m=\u001b[39mpersonel(isim\u001b[39m=\u001b[39;49m\u001b[39m\"\u001b[39;49m\u001b[39mesma\u001b[39;49m\u001b[39m\"\u001b[39;49m,soyisim\u001b[39m=\u001b[39;49m\u001b[39m\"\u001b[39;49m\u001b[39mservetoğlu\u001b[39;49m\u001b[39m\"\u001b[39;49m,maaş\u001b[39m=\u001b[39;49m\u001b[39m25000\u001b[39;49m)\n\u001b[0;32m     11\u001b[0m per2\u001b[39m=\u001b[39mpersonel(\u001b[39m\"\u001b[39m\u001b[39mmary\u001b[39m\u001b[39m\"\u001b[39m,\u001b[39m\"\u001b[39m\u001b[39msmith\u001b[39m\u001b[39m\"\u001b[39m,\u001b[39m4000\u001b[39m)\n\u001b[0;32m     13\u001b[0m \u001b[39mprint\u001b[39m(per1\u001b[39m.\u001b[39mad)\n",
      "\u001b[1;31mTypeError\u001b[0m: __init__() should return None, not 'personel'"
     ]
    }
   ],
   "source": [
    "class personel:\n",
    "    def __init__(self,isim,soyisim,maaş):\n",
    "        self.ad=isim\n",
    "        self.soyad=soyisim\n",
    "        self.price=maaş\n",
    "        self.eposta=f\"{isim.lower()}.{soyisim.lower()}@firma.com\"\n",
    "        \n",
    "        return self\n",
    "\n",
    "per1=personel(isim=\"esma\",soyisim=\"servetoğlu\",maaş=25000)\n",
    "per2=personel(\"mary\",\"smith\",4000)\n",
    "\n",
    "print(per1.ad)\n",
    "print(per1.soyad)\n",
    "print(per1.price)\n",
    "print(per1.eposta)\n",
    "\n",
    "print(per2.ad)\n",
    "print(per2.soyad)\n",
    "print(per2.price)\n",
    "print(per2.eposta)\n",
    "\n",
    "  "
   ]
  },
  {
   "cell_type": "code",
   "execution_count": 9,
   "metadata": {},
   "outputs": [
    {
     "name": "stdout",
     "output_type": "stream",
     "text": [
      "Esma\n",
      "Sert\n",
      "25000\n",
      "esma.sert@firma.com\n",
      "Mary\n",
      "Smith\n",
      "40000\n",
      "mary.smith@firma.com\n"
     ]
    }
   ],
   "source": [
    "class Personel:\n",
    "    def __init__(self, isim, soyisim, maas):\n",
    "        self.ad = isim\n",
    "        self.soyad = soyisim\n",
    "        self.price = maas\n",
    "        self.eposta = f\"{isim.lower()}.{soyisim.lower()}@firma.com\"\n",
    "\n",
    "per1 = Personel(isim=\"Esma\", soyisim=\"Sert\", maas=25000)\n",
    "per2 = Personel('Mary', 'Smith', 40000)\n",
    "\n",
    "\n",
    "print(per1.ad)\n",
    "print(per1.soyad)\n",
    "print(per1.price)\n",
    "print(per1.eposta)\n",
    "print(per2.ad)\n",
    "print(per2.soyad)\n",
    "print(per2.price)\n",
    "print(per2.eposta)"
   ]
  },
  {
   "cell_type": "code",
   "execution_count": null,
   "metadata": {},
   "outputs": [],
   "source": []
  },
  {
   "cell_type": "code",
   "execution_count": null,
   "metadata": {},
   "outputs": [],
   "source": []
  },
  {
   "cell_type": "code",
   "execution_count": null,
   "metadata": {},
   "outputs": [],
   "source": []
  }
 ],
 "metadata": {
  "kernelspec": {
   "display_name": "Python 3",
   "language": "python",
   "name": "python3"
  },
  "language_info": {
   "codemirror_mode": {
    "name": "ipython",
    "version": 3
   },
   "file_extension": ".py",
   "mimetype": "text/x-python",
   "name": "python",
   "nbconvert_exporter": "python",
   "pygments_lexer": "ipython3",
   "version": "3.11.3"
  },
  "orig_nbformat": 4
 },
 "nbformat": 4,
 "nbformat_minor": 2
}
