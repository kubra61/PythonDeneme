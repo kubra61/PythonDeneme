{
 "cells": [
  {
   "attachments": {},
   "cell_type": "markdown",
   "metadata": {},
   "source": [
    "## loops-while"
   ]
  },
  {
   "cell_type": "code",
   "execution_count": null,
   "metadata": {},
   "outputs": [],
   "source": [
    "x=5\n",
    "while 10>x:\n",
    "    print(\"bu döngü sonsuza kadar çalışır\")\n",
    "    #çalıştırma!! sonsuz döngü"
   ]
  },
  {
   "cell_type": "code",
   "execution_count": null,
   "metadata": {},
   "outputs": [
    {
     "name": "stdout",
     "output_type": "stream",
     "text": [
      "bu döngü sonsuza kadar çalışır\n",
      "bu döngü sonsuza kadar çalışır\n",
      "bu döngü sonsuza kadar çalışır\n",
      "bu döngü sonsuza kadar çalışır\n",
      "bu döngü sonsuza kadar çalışır\n"
     ]
    }
   ],
   "source": [
    "x=5\n",
    "while 10>x:\n",
    "    print(\"bu döngü sonsuza kadar çalışır\")\n",
    "    x=x+1"
   ]
  },
  {
   "cell_type": "code",
   "execution_count": null,
   "metadata": {},
   "outputs": [
    {
     "name": "stdout",
     "output_type": "stream",
     "text": [
      "whşle döngüsü condition false olana kadar çalışmaya devam eder\n"
     ]
    }
   ],
   "source": [
    "y=True\n",
    "while y:\n",
    "    print(\"whşle döngüsü condition false olana kadar çalışmaya devam eder\")\n",
    "    y=False"
   ]
  },
  {
   "cell_type": "code",
   "execution_count": null,
   "metadata": {},
   "outputs": [
    {
     "name": "stdout",
     "output_type": "stream",
     "text": [
      "0\n",
      "2\n",
      "4\n",
      "6\n",
      "8\n",
      "10\n"
     ]
    }
   ],
   "source": [
    "x=0\n",
    "while x<11:\n",
    "  print(x)\n",
    "  x+=2"
   ]
  },
  {
   "cell_type": "code",
   "execution_count": null,
   "metadata": {},
   "outputs": [
    {
     "name": "stdout",
     "output_type": "stream",
     "text": [
      "2\n",
      "4\n",
      "6\n",
      "8\n",
      "10\n",
      "12\n"
     ]
    }
   ],
   "source": [
    "x=0\n",
    "while x<11:\n",
    "   x+=2\n",
    "   print(x)\n",
    " "
   ]
  },
  {
   "cell_type": "code",
   "execution_count": null,
   "metadata": {},
   "outputs": [
    {
     "name": "stdout",
     "output_type": "stream",
     "text": [
      "1\n",
      "4\n",
      "9\n",
      "16\n",
      "25\n",
      "döngü bitti\n"
     ]
    }
   ],
   "source": [
    "x=1\n",
    "while x<6:\n",
    "    print(x**2)\n",
    "    x+=1 \n",
    "print(\"döngü bitti\")"
   ]
  },
  {
   "cell_type": "code",
   "execution_count": null,
   "metadata": {},
   "outputs": [
    {
     "name": "stdout",
     "output_type": "stream",
     "text": [
      "1\n",
      "9\n",
      "36\n",
      "64\n",
      "121\n",
      "225\n"
     ]
    }
   ],
   "source": [
    "sayilar_listesi=[1,3,6,8,11,15]\n",
    "\n",
    "len_liste=len(sayilar_listesi)\n",
    "\n",
    "x=0\n",
    "\n",
    "while x<len_liste: #kaç elemanlı olduğunu bilen fonk(listenin eleman saysıs)\n",
    "      print(sayilar_listesi[x]**2)\n",
    "      x+=1"
   ]
  },
  {
   "cell_type": "code",
   "execution_count": null,
   "metadata": {},
   "outputs": [
    {
     "name": "stdout",
     "output_type": "stream",
     "text": [
      "sanki bunu yazdırmaz\n"
     ]
    }
   ],
   "source": [
    "while[]:\n",
    "    print(\"boş liste\")\n",
    "print(\"sanki bunu yazdırmaz\")"
   ]
  },
  {
   "cell_type": "code",
   "execution_count": null,
   "metadata": {},
   "outputs": [
    {
     "data": {
      "text/plain": [
       "False"
      ]
     },
     "execution_count": 15,
     "metadata": {},
     "output_type": "execute_result"
    }
   ],
   "source": [
    "bool([])"
   ]
  },
  {
   "cell_type": "code",
   "execution_count": null,
   "metadata": {},
   "outputs": [
    {
     "data": {
      "text/plain": [
       "[1, 3, 6, 8, 11, 15]"
      ]
     },
     "execution_count": 18,
     "metadata": {},
     "output_type": "execute_result"
    }
   ],
   "source": [
    "sayilar_listesi"
   ]
  },
  {
   "cell_type": "code",
   "execution_count": null,
   "metadata": {},
   "outputs": [
    {
     "name": "stdout",
     "output_type": "stream",
     "text": [
      "15\n",
      "11\n",
      "8\n",
      "6\n",
      "3\n",
      "1\n",
      "sanki bunu yazdırmaz\n"
     ]
    }
   ],
   "source": [
    "sayilar_listesi=[1, 3, 6, 8, 11, 15]\n",
    "while sayilar_listesi:\n",
    "    print(sayilar_listesi[-1])\n",
    "    sayilar_listesi.pop()\n",
    "print(\"sanki bunu yazdırmaz\")"
   ]
  },
  {
   "cell_type": "code",
   "execution_count": null,
   "metadata": {},
   "outputs": [
    {
     "name": "stdout",
     "output_type": "stream",
     "text": [
      "1\n",
      "3\n",
      "6\n",
      "8\n",
      "11\n",
      "15\n",
      "döngü bitti\n"
     ]
    }
   ],
   "source": [
    "sayilar_listesi=[1, 3, 6, 8, 11, 15]\n",
    "while sayilar_listesi:\n",
    "    print(sayilar_listesi[0])\n",
    "    sayilar_listesi.remove(sayilar_listesi[0])\n",
    "print(\"döngü bitti\")"
   ]
  },
  {
   "cell_type": "code",
   "execution_count": 27,
   "metadata": {},
   "outputs": [
    {
     "name": "stdout",
     "output_type": "stream",
     "text": [
      "girdiğiniz sayi:60.doğru bildiniz.tebrikler\n",
      "oyun bitti\n"
     ]
    }
   ],
   "source": [
    "sayi=60\n",
    "\n",
    "y=True\n",
    "\n",
    "while y:\n",
    "\n",
    "    tahmin=int(input(\"bir sayi giriniz\"))\n",
    "\n",
    "    if sayi<tahmin:\n",
    "        print(f\"girdiğiniz sayi:{tahmin}.tahminini azalt\")\n",
    "    elif sayi>tahmin:   \n",
    "        print(f\"girdiğiniz sayi:{tahmin}.tahmini arttır\") \n",
    "    else:\n",
    "        print(f\"girdiğiniz sayi:{tahmin}.doğru bildiniz.tebrikler\")\n",
    "        y=False\n",
    "print(\"oyun bitti\")\n",
    "\n"
   ]
  },
  {
   "cell_type": "code",
   "execution_count": 32,
   "metadata": {},
   "outputs": [
    {
     "name": "stdout",
     "output_type": "stream",
     "text": [
      "girdiğiniz sayi:60.doğru bildiniz.tebrikler\n"
     ]
    }
   ],
   "source": [
    "sayi=60\n",
    "\n",
    "y=True\n",
    "\n",
    "sayac=0\n",
    "\n",
    "while y:\n",
    "    sayac+=1\n",
    "    tahmin=int(input(\"bir sayi giriniz\"))\n",
    "\n",
    "    if sayi<tahmin:\n",
    "        print(f\"girdiğiniz sayi:{tahmin}.tahminini azalt\")\n",
    "    elif sayi>tahmin:   \n",
    "        print(f\"girdiğiniz sayi:{tahmin}.tahmini arttır\") \n",
    "    else:\n",
    "        print(f\"girdiğiniz sayi:{tahmin}.doğru bildiniz.tebrikler\")\n",
    "        y=False\n",
    "\n",
    "       "
   ]
  },
  {
   "cell_type": "code",
   "execution_count": null,
   "metadata": {},
   "outputs": [],
   "source": [
    "print(f\"oyun bitti.\"{sayac}\".kere tahmin ettiniz\") "
   ]
  },
  {
   "attachments": {},
   "cell_type": "markdown",
   "metadata": {},
   "source": [
    "## random modülü\n"
   ]
  },
  {
   "cell_type": "code",
   "execution_count": 34,
   "metadata": {},
   "outputs": [],
   "source": [
    "import random\n"
   ]
  },
  {
   "cell_type": "code",
   "execution_count": 38,
   "metadata": {},
   "outputs": [
    {
     "data": {
      "text/plain": [
       "0.8448844019449675"
      ]
     },
     "execution_count": 38,
     "metadata": {},
     "output_type": "execute_result"
    }
   ],
   "source": [
    "random.random()"
   ]
  },
  {
   "cell_type": "code",
   "execution_count": 39,
   "metadata": {},
   "outputs": [
    {
     "data": {
      "text/plain": [
       "0.5811521325045647"
      ]
     },
     "execution_count": 39,
     "metadata": {},
     "output_type": "execute_result"
    }
   ],
   "source": [
    "random.seed(101) #sabitlemeye yarar\n",
    "random.random()"
   ]
  },
  {
   "cell_type": "code",
   "execution_count": 50,
   "metadata": {},
   "outputs": [
    {
     "data": {
      "text/plain": [
       "7"
      ]
     },
     "execution_count": 50,
     "metadata": {},
     "output_type": "execute_result"
    }
   ],
   "source": [
    "random.randint(5,10)"
   ]
  },
  {
   "cell_type": "code",
   "execution_count": null,
   "metadata": {},
   "outputs": [],
   "source": [
    "import random\n",
    "sayi=random.randint(0,100)\n",
    "\n",
    "y=True\n",
    "\n",
    "sayac=0\n",
    "\n",
    "while y:\n",
    "    sayac+=1\n",
    "    tahmin=int(input(\"bir sayi giriniz\"))\n",
    "\n",
    "    if sayi<tahmin:\n",
    "        print(f\"girdiğiniz sayi:{tahmin}.tahminini azalt\")\n",
    "    elif sayi>tahmin:   \n",
    "        print(f\"girdiğiniz sayi:{tahmin}.tahmini arttır\") \n",
    "    else:\n",
    "        print(f\"girdiğiniz sayi:{tahmin}.doğru bildiniz.tebrikler\")\n",
    "        y=False\n",
    "print(f\"oyun bitti.{sayac} kerede tahmin ettin.\")"
   ]
  },
  {
   "cell_type": "code",
   "execution_count": 55,
   "metadata": {},
   "outputs": [
    {
     "name": "stdout",
     "output_type": "stream",
     "text": [
      "girdiğiniz sayi:50.tahminini azalt\n",
      "girdiğiniz sayi:40.tahmini arttır\n",
      "girdiğiniz sayi:45.tahminini azalt\n",
      "girdiğiniz sayi:43.tahminini azalt\n",
      "girdiğiniz sayi:43.tahminini azalt\n",
      "doğru tahmin edemedin. 42 idi\n"
     ]
    }
   ],
   "source": [
    "import random\n",
    "sayi=random.randint(0,100)\n",
    "\n",
    "sayac=0\n",
    "\n",
    "while sayac<5:\n",
    "    sayac+=1\n",
    "    tahmin=int(input(\"bir sayi giriniz\"))\n",
    "\n",
    "    if sayi<tahmin:\n",
    "        print(f\"girdiğiniz sayi:{tahmin}.tahminini azalt\")\n",
    "    elif sayi>tahmin:   \n",
    "        print(f\"girdiğiniz sayi:{tahmin}.tahmini arttır\") \n",
    "    else:\n",
    "        print(f\"girdiğiniz sayi:{tahmin}.doğru bildiniz.tebrikler\")\n",
    "        print(f\"oyun bitti.{sayac} kerede tahmin ettin.\")\n",
    "        break\n",
    "\n",
    "    if sayac==5:\n",
    "        print(f\"doğru tahmin edemedin.sayi {sayi} idi\")\n",
    "        break"
   ]
  },
  {
   "cell_type": "code",
   "execution_count": 57,
   "metadata": {},
   "outputs": [],
   "source": [
    "liste_1 = [1,45,22,69,58,55,47,45,46,48,49,50,40]"
   ]
  },
  {
   "cell_type": "code",
   "execution_count": 65,
   "metadata": {},
   "outputs": [
    {
     "ename": "TypeError",
     "evalue": "'builtin_function_or_method' object is not subscriptable",
     "output_type": "error",
     "traceback": [
      "\u001b[1;31m---------------------------------------------------------------------------\u001b[0m",
      "\u001b[1;31mTypeError\u001b[0m                                 Traceback (most recent call last)",
      "Cell \u001b[1;32mIn[65], line 14\u001b[0m\n\u001b[0;32m     12\u001b[0m         evens\u001b[39m.\u001b[39mappend[liste_1[x]]\n\u001b[0;32m     13\u001b[0m     \u001b[39melse\u001b[39;00m:\n\u001b[1;32m---> 14\u001b[0m         odds\u001b[39m.\u001b[39;49mappend[liste_1[x]]\n\u001b[0;32m     15\u001b[0m     x\u001b[39m=\u001b[39mx\u001b[39m+\u001b[39m\u001b[39m1\u001b[39m\n\u001b[0;32m     17\u001b[0m \u001b[39mprint\u001b[39m(\u001b[39mf\u001b[39m\u001b[39m\"\u001b[39m\u001b[39mçift sayilar:\u001b[39m\u001b[39m{\u001b[39;00mevens\u001b[39m}\u001b[39;00m\u001b[39m\"\u001b[39m)\n",
      "\u001b[1;31mTypeError\u001b[0m: 'builtin_function_or_method' object is not subscriptable"
     ]
    }
   ],
   "source": [
    "liste_1 = [1,45,22,69,58,55,47,45,46,48,49,50,40]\n",
    "len_ste=len(liste_1)\n",
    "\n",
    "odds=[]\n",
    "\n",
    "evens=[]\n",
    "\n",
    "x=0\n",
    "\n",
    "while x<len_liste:\n",
    "    if liste_1[x]%2==0:\n",
    "        evens.append[liste_1[x]]\n",
    "    else:\n",
    "        odds.append[liste_1[x]]\n",
    "    x=x+1\n",
    "\n",
    "print(f\"çift sayilar:{evens}\")\n",
    "print(f\"tek sayilar:{odds}\")\n",
    "\n",
    "           "
   ]
  },
  {
   "cell_type": "code",
   "execution_count": 66,
   "metadata": {},
   "outputs": [
    {
     "ename": "TypeError",
     "evalue": "'builtin_function_or_method' object is not subscriptable",
     "output_type": "error",
     "traceback": [
      "\u001b[1;31m---------------------------------------------------------------------------\u001b[0m",
      "\u001b[1;31mTypeError\u001b[0m                                 Traceback (most recent call last)",
      "Cell \u001b[1;32mIn[66], line 14\u001b[0m\n\u001b[0;32m     12\u001b[0m         evens\u001b[39m.\u001b[39mappend[liste_1[x]]\n\u001b[0;32m     13\u001b[0m     \u001b[39melse\u001b[39;00m:\n\u001b[1;32m---> 14\u001b[0m         odds\u001b[39m.\u001b[39;49mappend[liste_1[x]]\n\u001b[0;32m     15\u001b[0m     x\u001b[39m=\u001b[39mx\u001b[39m+\u001b[39m\u001b[39m1\u001b[39m\n\u001b[0;32m     17\u001b[0m \u001b[39mprint\u001b[39m(\u001b[39mf\u001b[39m\u001b[39m\"\u001b[39m\u001b[39mçift sayilar:\u001b[39m\u001b[39m{\u001b[39;00mevens\u001b[39m}\u001b[39;00m\u001b[39m\"\u001b[39m)\n",
      "\u001b[1;31mTypeError\u001b[0m: 'builtin_function_or_method' object is not subscriptable"
     ]
    }
   ],
   "source": [
    "liste_1 = [1,45,22,69,58,55,47,45,46,48,49,50,40]\n",
    "len_ste=len(liste_1)\n",
    "\n",
    "odds=[]\n",
    "\n",
    "evens=[]\n",
    "\n",
    "x=0\n",
    "\n",
    "while x<len_liste:\n",
    "    if liste_1[x]%2==0:\n",
    "        evens.append[liste_1[x]]\n",
    "    else:\n",
    "        odds.append[liste_1[x]]\n",
    "    x=x+1\n",
    "\n",
    "print(f\"çift sayilar:{evens}\")\n",
    "print(f\"tek sayilar:{odds}\")\n"
   ]
  },
  {
   "attachments": {},
   "cell_type": "markdown",
   "metadata": {},
   "source": [
    "## min(),max()"
   ]
  },
  {
   "cell_type": "code",
   "execution_count": 2,
   "metadata": {},
   "outputs": [],
   "source": [
    "liste_2=[4,9,68,41,2,3,75,6]"
   ]
  },
  {
   "cell_type": "code",
   "execution_count": 3,
   "metadata": {},
   "outputs": [
    {
     "data": {
      "text/plain": [
       "2"
      ]
     },
     "execution_count": 3,
     "metadata": {},
     "output_type": "execute_result"
    }
   ],
   "source": [
    "min(liste_2)"
   ]
  },
  {
   "cell_type": "code",
   "execution_count": 4,
   "metadata": {},
   "outputs": [
    {
     "data": {
      "text/plain": [
       "75"
      ]
     },
     "execution_count": 4,
     "metadata": {},
     "output_type": "execute_result"
    }
   ],
   "source": [
    "max(liste_2)"
   ]
  },
  {
   "cell_type": "code",
   "execution_count": 5,
   "metadata": {},
   "outputs": [
    {
     "ename": "TypeError",
     "evalue": "'<' not supported between instances of 'str' and 'int'",
     "output_type": "error",
     "traceback": [
      "\u001b[1;31m---------------------------------------------------------------------------\u001b[0m",
      "\u001b[1;31mTypeError\u001b[0m                                 Traceback (most recent call last)",
      "Cell \u001b[1;32mIn[5], line 1\u001b[0m\n\u001b[1;32m----> 1\u001b[0m \u001b[39mmin\u001b[39;49m([\u001b[39m1\u001b[39;49m,\u001b[39m2\u001b[39;49m,\u001b[39m3\u001b[39;49m,\u001b[39m\"\u001b[39;49m\u001b[39mtevhpro\u001b[39;49m\u001b[39m\"\u001b[39;49m,\u001b[39m\"\u001b[39;49m\u001b[39meducation\u001b[39;49m\u001b[39m\"\u001b[39;49m])\n",
      "\u001b[1;31mTypeError\u001b[0m: '<' not supported between instances of 'str' and 'int'"
     ]
    }
   ],
   "source": [
    "min([1,2,3,\"tevhpro\",\"education\"])"
   ]
  },
  {
   "cell_type": "code",
   "execution_count": 6,
   "metadata": {},
   "outputs": [
    {
     "data": {
      "text/plain": [
       "'world'"
      ]
     },
     "execution_count": 6,
     "metadata": {},
     "output_type": "execute_result"
    }
   ],
   "source": [
    "max([\"hello\",\"techpro\",\"world\"])"
   ]
  },
  {
   "cell_type": "code",
   "execution_count": 7,
   "metadata": {},
   "outputs": [
    {
     "data": {
      "text/plain": [
       "True"
      ]
     },
     "execution_count": 7,
     "metadata": {},
     "output_type": "execute_result"
    }
   ],
   "source": [
    "max([True,1])"
   ]
  },
  {
   "cell_type": "code",
   "execution_count": 8,
   "metadata": {},
   "outputs": [
    {
     "data": {
      "text/plain": [
       "1"
      ]
     },
     "execution_count": 8,
     "metadata": {},
     "output_type": "execute_result"
    }
   ],
   "source": [
    "max([1,True])"
   ]
  },
  {
   "cell_type": "code",
   "execution_count": 9,
   "metadata": {},
   "outputs": [
    {
     "data": {
      "text/plain": [
       "True"
      ]
     },
     "execution_count": 9,
     "metadata": {},
     "output_type": "execute_result"
    }
   ],
   "source": [
    "max([True,1.0])"
   ]
  },
  {
   "cell_type": "code",
   "execution_count": 10,
   "metadata": {},
   "outputs": [
    {
     "data": {
      "text/plain": [
       "'world'"
      ]
     },
     "execution_count": 10,
     "metadata": {},
     "output_type": "execute_result"
    }
   ],
   "source": [
    "max([\"hello\",\"techpro\",\"world\"], key=str.lower)"
   ]
  },
  {
   "cell_type": "code",
   "execution_count": 13,
   "metadata": {},
   "outputs": [],
   "source": [
    "sayılar_listesi = [1, 4, 56, 18, 47, 96, 325, 1, 5, 4, 7, 8, -8, -400, 0, 47]"
   ]
  },
  {
   "cell_type": "code",
   "execution_count": 18,
   "metadata": {},
   "outputs": [
    {
     "name": "stdout",
     "output_type": "stream",
     "text": [
      "listenin en büyük elemanı:325\n"
     ]
    }
   ],
   "source": [
    "sayılar_listesi = [1, 4, 56, 18, 47, 96, 325, 1, 5, 4, 7, 8, -8, -400, 0, 47]\n",
    "\n",
    "index=0\n",
    "max_sayi=0 #bu satırdan dolayı kısmen hatalı. listenin tüm elemanları sıfırdan küçük olabilir\n",
    "while index<len(sayılar_listesi):\n",
    "    if sayılar_listesi[index]>max_sayi:\n",
    "        max_sayi=sayılar_listesi[index]\n",
    "\n",
    "    index+=1\n",
    "print(f\"listenin en büyük elemanı:{max_sayi}\")\n"
   ]
  },
  {
   "cell_type": "code",
   "execution_count": 19,
   "metadata": {},
   "outputs": [
    {
     "name": "stdout",
     "output_type": "stream",
     "text": [
      "listenin en büyük elemanı:325\n"
     ]
    }
   ],
   "source": [
    "sayılar_listesi = [1, 4, 56, 18, 47, 96, 325, 1, 5, 4, 7, 8, -8, -400, 0, 47]\n",
    "\n",
    "index=0\n",
    "max_sayi=sayılar_listesi[0] #listenin 0.indexine yani 0.elemana eşit demek\n",
    "while index<len(sayılar_listesi):\n",
    "    if sayılar_listesi[index]>max_sayi:\n",
    "        max_sayi=sayılar_listesi[index]\n",
    "\n",
    "    index+=1\n",
    "print(f\"listenin en büyük elemanı:{max_sayi}\")"
   ]
  },
  {
   "attachments": {},
   "cell_type": "markdown",
   "metadata": {},
   "source": [
    "## loops-for"
   ]
  },
  {
   "attachments": {},
   "cell_type": "markdown",
   "metadata": {},
   "source": [
    "for değişken in iterable:\n",
    "    kod satırı/satırları"
   ]
  },
  {
   "cell_type": "code",
   "execution_count": null,
   "metadata": {},
   "outputs": [],
   "source": []
  },
  {
   "cell_type": "code",
   "execution_count": null,
   "metadata": {},
   "outputs": [],
   "source": []
  },
  {
   "cell_type": "code",
   "execution_count": null,
   "metadata": {},
   "outputs": [],
   "source": []
  },
  {
   "cell_type": "code",
   "execution_count": null,
   "metadata": {},
   "outputs": [],
   "source": []
  },
  {
   "cell_type": "code",
   "execution_count": null,
   "metadata": {},
   "outputs": [],
   "source": []
  },
  {
   "cell_type": "code",
   "execution_count": null,
   "metadata": {},
   "outputs": [],
   "source": []
  }
 ],
 "metadata": {
  "kernelspec": {
   "display_name": "Python 3",
   "language": "python",
   "name": "python3"
  },
  "language_info": {
   "codemirror_mode": {
    "name": "ipython",
    "version": 3
   },
   "file_extension": ".py",
   "mimetype": "text/x-python",
   "name": "python",
   "nbconvert_exporter": "python",
   "pygments_lexer": "ipython3",
   "version": "3.11.3"
  },
  "orig_nbformat": 4
 },
 "nbformat": 4,
 "nbformat_minor": 2
}
